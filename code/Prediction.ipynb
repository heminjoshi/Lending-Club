{
 "cells": [
  {
   "cell_type": "code",
   "execution_count": 38,
   "metadata": {},
   "outputs": [],
   "source": [
    "import numpy as np\n",
    "import pandas as pd\n",
    "import seaborn as sb\n",
    "import matplotlib.pyplot as plt   #Data visualisation libraries \n",
    "import sklearn\n",
    "from sklearn.model_selection import cross_val_score\n",
    "# Sci-kit Learn Models\n",
    "from sklearn.linear_model import LinearRegression\n",
    "from sklearn.ensemble import RandomForestRegressor\n",
    "from sklearn.neural_network import MLPRegressor\n",
    "# Metrics\n",
    "from sklearn.metrics import mean_squared_error\n",
    "from pprint import pprint\n",
    "import copy\n",
    "from sklearn.model_selection import ParameterGrid"
   ]
  },
  {
   "cell_type": "code",
   "execution_count": 25,
   "metadata": {},
   "outputs": [
    {
     "data": {
      "text/html": [
       "<div>\n",
       "<style scoped>\n",
       "    .dataframe tbody tr th:only-of-type {\n",
       "        vertical-align: middle;\n",
       "    }\n",
       "\n",
       "    .dataframe tbody tr th {\n",
       "        vertical-align: top;\n",
       "    }\n",
       "\n",
       "    .dataframe thead th {\n",
       "        text-align: right;\n",
       "    }\n",
       "</style>\n",
       "<table border=\"1\" class=\"dataframe\">\n",
       "  <thead>\n",
       "    <tr style=\"text-align: right;\">\n",
       "      <th></th>\n",
       "      <th>Unnamed: 0</th>\n",
       "      <th>loan_amnt</th>\n",
       "      <th>funded_amnt</th>\n",
       "      <th>funded_amnt_inv</th>\n",
       "      <th>term</th>\n",
       "      <th>int_rate</th>\n",
       "      <th>installment</th>\n",
       "      <th>grade</th>\n",
       "      <th>sub_grade</th>\n",
       "      <th>home_ownership</th>\n",
       "      <th>...</th>\n",
       "      <th>recoveries</th>\n",
       "      <th>collection_recovery_fee</th>\n",
       "      <th>last_pymnt_amnt</th>\n",
       "      <th>collections_12_mths_ex_med</th>\n",
       "      <th>mths_since_last_major_derog</th>\n",
       "      <th>policy_code</th>\n",
       "      <th>application_type</th>\n",
       "      <th>annual_inc_joint</th>\n",
       "      <th>dti_joint</th>\n",
       "      <th>acc_now_delinq</th>\n",
       "    </tr>\n",
       "  </thead>\n",
       "  <tbody>\n",
       "    <tr>\n",
       "      <th>0</th>\n",
       "      <td>0</td>\n",
       "      <td>5000.0</td>\n",
       "      <td>5000.0</td>\n",
       "      <td>4975.0</td>\n",
       "      <td>1</td>\n",
       "      <td>10.65</td>\n",
       "      <td>162.87</td>\n",
       "      <td>2</td>\n",
       "      <td>7</td>\n",
       "      <td>6</td>\n",
       "      <td>...</td>\n",
       "      <td>0.00</td>\n",
       "      <td>0.00</td>\n",
       "      <td>171.62</td>\n",
       "      <td>0.0</td>\n",
       "      <td>44.104838</td>\n",
       "      <td>1.0</td>\n",
       "      <td>1</td>\n",
       "      <td>109981.011585</td>\n",
       "      <td>18.310118</td>\n",
       "      <td>0.0</td>\n",
       "    </tr>\n",
       "    <tr>\n",
       "      <th>1</th>\n",
       "      <td>1</td>\n",
       "      <td>2500.0</td>\n",
       "      <td>2500.0</td>\n",
       "      <td>2500.0</td>\n",
       "      <td>2</td>\n",
       "      <td>15.27</td>\n",
       "      <td>59.83</td>\n",
       "      <td>3</td>\n",
       "      <td>14</td>\n",
       "      <td>6</td>\n",
       "      <td>...</td>\n",
       "      <td>117.08</td>\n",
       "      <td>1.11</td>\n",
       "      <td>119.66</td>\n",
       "      <td>0.0</td>\n",
       "      <td>44.104838</td>\n",
       "      <td>1.0</td>\n",
       "      <td>1</td>\n",
       "      <td>109981.011585</td>\n",
       "      <td>18.310118</td>\n",
       "      <td>0.0</td>\n",
       "    </tr>\n",
       "    <tr>\n",
       "      <th>2</th>\n",
       "      <td>2</td>\n",
       "      <td>2400.0</td>\n",
       "      <td>2400.0</td>\n",
       "      <td>2400.0</td>\n",
       "      <td>1</td>\n",
       "      <td>15.96</td>\n",
       "      <td>84.33</td>\n",
       "      <td>3</td>\n",
       "      <td>15</td>\n",
       "      <td>6</td>\n",
       "      <td>...</td>\n",
       "      <td>0.00</td>\n",
       "      <td>0.00</td>\n",
       "      <td>649.91</td>\n",
       "      <td>0.0</td>\n",
       "      <td>44.104838</td>\n",
       "      <td>1.0</td>\n",
       "      <td>1</td>\n",
       "      <td>109981.011585</td>\n",
       "      <td>18.310118</td>\n",
       "      <td>0.0</td>\n",
       "    </tr>\n",
       "    <tr>\n",
       "      <th>3</th>\n",
       "      <td>3</td>\n",
       "      <td>10000.0</td>\n",
       "      <td>10000.0</td>\n",
       "      <td>10000.0</td>\n",
       "      <td>1</td>\n",
       "      <td>13.49</td>\n",
       "      <td>339.31</td>\n",
       "      <td>3</td>\n",
       "      <td>11</td>\n",
       "      <td>6</td>\n",
       "      <td>...</td>\n",
       "      <td>0.00</td>\n",
       "      <td>0.00</td>\n",
       "      <td>357.48</td>\n",
       "      <td>0.0</td>\n",
       "      <td>44.104838</td>\n",
       "      <td>1.0</td>\n",
       "      <td>1</td>\n",
       "      <td>109981.011585</td>\n",
       "      <td>18.310118</td>\n",
       "      <td>0.0</td>\n",
       "    </tr>\n",
       "    <tr>\n",
       "      <th>4</th>\n",
       "      <td>4</td>\n",
       "      <td>3000.0</td>\n",
       "      <td>3000.0</td>\n",
       "      <td>3000.0</td>\n",
       "      <td>2</td>\n",
       "      <td>12.69</td>\n",
       "      <td>67.79</td>\n",
       "      <td>2</td>\n",
       "      <td>10</td>\n",
       "      <td>6</td>\n",
       "      <td>...</td>\n",
       "      <td>0.00</td>\n",
       "      <td>0.00</td>\n",
       "      <td>67.79</td>\n",
       "      <td>0.0</td>\n",
       "      <td>44.104838</td>\n",
       "      <td>1.0</td>\n",
       "      <td>1</td>\n",
       "      <td>109981.011585</td>\n",
       "      <td>18.310118</td>\n",
       "      <td>0.0</td>\n",
       "    </tr>\n",
       "  </tbody>\n",
       "</table>\n",
       "<p>5 rows × 42 columns</p>\n",
       "</div>"
      ],
      "text/plain": [
       "   Unnamed: 0  loan_amnt  funded_amnt  funded_amnt_inv  term  int_rate  \\\n",
       "0           0     5000.0       5000.0           4975.0     1     10.65   \n",
       "1           1     2500.0       2500.0           2500.0     2     15.27   \n",
       "2           2     2400.0       2400.0           2400.0     1     15.96   \n",
       "3           3    10000.0      10000.0          10000.0     1     13.49   \n",
       "4           4     3000.0       3000.0           3000.0     2     12.69   \n",
       "\n",
       "   installment  grade  sub_grade  home_ownership       ...        recoveries  \\\n",
       "0       162.87      2          7               6       ...              0.00   \n",
       "1        59.83      3         14               6       ...            117.08   \n",
       "2        84.33      3         15               6       ...              0.00   \n",
       "3       339.31      3         11               6       ...              0.00   \n",
       "4        67.79      2         10               6       ...              0.00   \n",
       "\n",
       "   collection_recovery_fee  last_pymnt_amnt  collections_12_mths_ex_med  \\\n",
       "0                     0.00           171.62                         0.0   \n",
       "1                     1.11           119.66                         0.0   \n",
       "2                     0.00           649.91                         0.0   \n",
       "3                     0.00           357.48                         0.0   \n",
       "4                     0.00            67.79                         0.0   \n",
       "\n",
       "   mths_since_last_major_derog  policy_code  application_type  \\\n",
       "0                    44.104838          1.0                 1   \n",
       "1                    44.104838          1.0                 1   \n",
       "2                    44.104838          1.0                 1   \n",
       "3                    44.104838          1.0                 1   \n",
       "4                    44.104838          1.0                 1   \n",
       "\n",
       "   annual_inc_joint  dti_joint  acc_now_delinq  \n",
       "0     109981.011585  18.310118             0.0  \n",
       "1     109981.011585  18.310118             0.0  \n",
       "2     109981.011585  18.310118             0.0  \n",
       "3     109981.011585  18.310118             0.0  \n",
       "4     109981.011585  18.310118             0.0  \n",
       "\n",
       "[5 rows x 42 columns]"
      ]
     },
     "execution_count": 25,
     "metadata": {},
     "output_type": "execute_result"
    }
   ],
   "source": [
    "loan_df = pd.read_csv('D:\\Academic\\Data Science\\lc_data/cleaned_data.csv')\n",
    "loan_df.head(5)"
   ]
  },
  {
   "cell_type": "code",
   "execution_count": 26,
   "metadata": {},
   "outputs": [],
   "source": [
    "# Labels (y_true of this dataset)\n",
    "y = loan_df.pop(\"int_rate\")"
   ]
  },
  {
   "cell_type": "code",
   "execution_count": 27,
   "metadata": {},
   "outputs": [],
   "source": [
    "train = int(len(loan_df) * 0.60)\n",
    "val = int(len(loan_df) * 0.20)\n",
    "test = int(len(loan_df) * 0.20)"
   ]
  },
  {
   "cell_type": "code",
   "execution_count": 28,
   "metadata": {},
   "outputs": [],
   "source": [
    "def cross_validate(clf, df, test_x, test_y, k = 5) :\n",
    "  # Build the metric dict.\n",
    "  metric = {\"train\":{\"mse\": [], \"score\": []},\n",
    "            \"val\" : {\"mse\": [], \"score\": []},\n",
    "            \"test\" :{\"mse\": [], \"score\": []}};\n",
    "\n",
    "  split = int(len(df) * 0.80)\n",
    "  for i in range(k) :\n",
    "    df = df.sample(frac=1)\n",
    "    y = df[\"label\"]\n",
    "    x = df.loc[:, df.columns != 'label']\n",
    "    train_x, train_y = x[:split],y[:split]\n",
    "    val_x, val_y = x[split:], y[split:]\n",
    "    model = copy.deepcopy(clf)\n",
    "    model.fit(train_x, train_y)  \n",
    "    # Log the Mean Square Error\n",
    "    metric[\"train\"][\"mse\"].append(mean_squared_error(train_y,model.predict(train_x)))\n",
    "    metric[\"val\"][\"mse\"].append(mean_squared_error(val_y,model.predict(val_x)))\n",
    "    metric['test'][\"mse\"].append(mean_squared_error(test_y,model.predict(test_x))) \n",
    "    # Log the Model Score\n",
    "    metric[\"train\"][\"score\"].append(model.score(train_x,train_y))\n",
    "    metric[\"val\"][\"score\"].append(model.score(val_x,val_y))\n",
    "    metric[\"test\"][\"score\"].append(model.score(test_x,test_y))    \n",
    "  return metric\n",
    "  "
   ]
  },
  {
   "cell_type": "code",
   "execution_count": 29,
   "metadata": {},
   "outputs": [],
   "source": [
    "crossValidationSet = copy.deepcopy(loan_df[:train+val]);\n",
    "crossValidationSet[\"label\"] = y[:train+val];"
   ]
  },
  {
   "cell_type": "code",
   "execution_count": 30,
   "metadata": {},
   "outputs": [],
   "source": [
    "train_x,train_y = loan_df[:train], y[:train]\n",
    "val_x, val_y = loan_df[train: train + val], y[train: train + val]\n",
    "test_x, test_y = loan_df[train + test :], y[train + test :]\n",
    "\n",
    "assert len(train_x) == train, \"Training set length does not match expected train length\"\n",
    "assert len(val_x) == val, \"Validation set length does not match expected validation length\"\n",
    "assert len(test_x) >= test , \"Test set length does not match expected test length\""
   ]
  },
  {
   "cell_type": "code",
   "execution_count": 31,
   "metadata": {},
   "outputs": [
    {
     "data": {
      "text/plain": [
       "LinearRegression(copy_X=True, fit_intercept=True, n_jobs=None,\n",
       "         normalize=False)"
      ]
     },
     "execution_count": 31,
     "metadata": {},
     "output_type": "execute_result"
    }
   ],
   "source": [
    "lr = LinearRegression() # Init\n",
    "lr.fit(train_x, train_y) # Train"
   ]
  },
  {
   "cell_type": "markdown",
   "metadata": {},
   "source": [
    "# Linear Regression Score and MSE\n",
    "\n",
    "1. Score (0.0 to 1.0) 1.0 being the highest \n",
    "2. MSE (0.0 to 1.0) 0.0 being the best"
   ]
  },
  {
   "cell_type": "code",
   "execution_count": 32,
   "metadata": {},
   "outputs": [
    {
     "name": "stdout",
     "output_type": "stream",
     "text": [
      "Training Set Score Linear Regression: 0.9602038090793331\n",
      "Validation Set Score Linear Regression: 0.9837360795034014\n",
      "Test Set Score Linear Regression: 0.9870914423635125\n",
      "Training Set MSE Linear Regression: 0.7588524105425732\n",
      "Validation Set MSE Linear Regression: 0.30090928582755705\n",
      "Test Set MSE Linear Regression: 0.24695311566090825\n"
     ]
    }
   ],
   "source": [
    "# MSE on training set\n",
    "print(\"Training Set Score Linear Regression:\", lr.score(train_x,train_y))\n",
    "\n",
    "# MSE on validation set\n",
    "print(\"Validation Set Score Linear Regression:\", lr.score(val_x, val_y))\n",
    "\n",
    "# MSE on test set\n",
    "print(\"Test Set Score Linear Regression:\", lr.score(test_x, test_y))\n",
    "\n",
    "# MSE on training set\n",
    "print(\"Training Set MSE Linear Regression:\", mean_squared_error(train_y, lr.predict(train_x)))\n",
    "\n",
    "# MSE on validation set\n",
    "print(\"Validation Set MSE Linear Regression:\", mean_squared_error(val_y, lr.predict(val_x)))\n",
    "\n",
    "# MSE on test set\n",
    "print(\"Test Set MSE Linear Regression:\", mean_squared_error(test_y, lr.predict(test_x)))"
   ]
  },
  {
   "cell_type": "markdown",
   "metadata": {},
   "source": [
    "# 5 Fold Cross Validation"
   ]
  },
  {
   "cell_type": "code",
   "execution_count": 33,
   "metadata": {},
   "outputs": [
    {
     "name": "stdout",
     "output_type": "stream",
     "text": [
      "{'test': {'mse': [0.17089471678021792,\n",
      "                  0.17042786877277308,\n",
      "                  0.1702366760789883,\n",
      "                  0.17038393078755137,\n",
      "                  0.17005350115382936],\n",
      "          'score': [0.9910671128994473,\n",
      "                    0.9910915156464847,\n",
      "                    0.991101509535004,\n",
      "                    0.9910938123416009,\n",
      "                    0.9911110843244235]},\n",
      " 'train': {'mse': [0.6186249747400263,\n",
      "                   0.6228193121127339,\n",
      "                   0.6217650493466569,\n",
      "                   0.6205608365586446,\n",
      "                   0.623505484641527],\n",
      "           'score': [0.9677751989757772,\n",
      "                     0.9675043270099937,\n",
      "                     0.9675696039222947,\n",
      "                     0.9676284808062461,\n",
      "                     0.9674859477985869]},\n",
      " 'val': {'mse': [0.6388069774366331,\n",
      "                 0.6150487297823956,\n",
      "                 0.6193008905539295,\n",
      "                 0.624069500610351,\n",
      "                 0.6124154263885978],\n",
      "         'score': [0.9664262647174003,\n",
      "                   0.9678836539721599,\n",
      "                   0.9676206277635427,\n",
      "                   0.967386894959352,\n",
      "                   0.9679525681324166]}}\n"
     ]
    }
   ],
   "source": [
    "lr_cv = LinearRegression()\n",
    "cv_result = cross_validate(lr_cv, crossValidationSet, test_x, test_y)\n",
    "pprint(cv_result)"
   ]
  },
  {
   "cell_type": "code",
   "execution_count": 34,
   "metadata": {},
   "outputs": [],
   "source": [
    "lr_predictions = lr.predict(test_x)"
   ]
  },
  {
   "cell_type": "code",
   "execution_count": 35,
   "metadata": {},
   "outputs": [
    {
     "data": {
      "text/plain": [
       "<matplotlib.collections.PathCollection at 0x134004dab70>"
      ]
     },
     "execution_count": 35,
     "metadata": {},
     "output_type": "execute_result"
    },
    {
     "data": {
      "image/png": "[encoded data removed]",
      "text/plain": [
       "<Figure size 432x288 with 1 Axes>"
      ]
     },
     "metadata": {
      "needs_background": "light"
     },
     "output_type": "display_data"
    }
   ],
   "source": [
    "plt.scatter(test_y,lr_predictions)"
   ]
  },
  {
   "cell_type": "markdown",
   "metadata": {},
   "source": [
    "# Grid Search for Hyperparameter Tuning"
   ]
  },
  {
   "cell_type": "code",
   "execution_count": 39,
   "metadata": {},
   "outputs": [],
   "source": [
    "# Linear Regression Params\n",
    "fit_intercept : bool\n",
    "normalize : bool\n",
    "params = {\"fit_intercept\":[True, False], \"normalize\" : [True, False]}\n",
    "grid = list(ParameterGrid(params))\n",
    "result = [] # This result will contain the results for 5 cross validations per param combination created by ParameterGrid\n",
    "for param in grid :\n",
    "  result.append(cross_validate(LinearRegression(param),crossValidationSet, test_x, test_y))\n",
    "  "
   ]
  },
  {
   "cell_type": "code",
   "execution_count": 40,
   "metadata": {},
   "outputs": [
    {
     "name": "stdout",
     "output_type": "stream",
     "text": [
      "Result of {'fit_intercept': True, 'normalize': True} hyper parameters is\n",
      "{'test': {'mse': [0.1698112065600141,\n",
      "                  0.17016675624834704,\n",
      "                  0.17040705118091048,\n",
      "                  0.17041375695192681,\n",
      "                  0.16986147370968577],\n",
      "          'score': [0.9911237493751192,\n",
      "                    0.9911051643346664,\n",
      "                    0.9910926038088417,\n",
      "                    0.9910922532895481,\n",
      "                    0.9911211218464199]},\n",
      " 'train': {'mse': [0.6208859245769757,\n",
      "                   0.6190474298404982,\n",
      "                   0.6212558377808493,\n",
      "                   0.6215715301133878,\n",
      "                   0.6209948871764567],\n",
      "           'score': [0.967585001034227,\n",
      "                     0.967664706426613,\n",
      "                     0.9675733370828438,\n",
      "                     0.9675387392315891,\n",
      "                     0.9675694609489595]},\n",
      " 'val': {'mse': [0.6228163205996154,\n",
      "                 0.6301052221871161,\n",
      "                 0.6213675929602298,\n",
      "                 0.6201064739935752,\n",
      "                 0.6224773692183051],\n",
      "         'score': [0.9675577361812321,\n",
      "                   0.9672445384036492,\n",
      "                   0.9676039489951296,\n",
      "                   0.9677418452801635,\n",
      "                   0.9676158363862136]}}\n"
     ]
    }
   ],
   "source": [
    "print(\"Result of\" , grid[0] , \"hyper parameters is\")\n",
    "pprint(result[0])"
   ]
  },
  {
   "cell_type": "markdown",
   "metadata": {},
   "source": [
    "\n",
    "# Random Forest"
   ]
  },
  {
   "cell_type": "code",
   "execution_count": 13,
   "metadata": {},
   "outputs": [
    {
     "name": "stderr",
     "output_type": "stream",
     "text": [
      "C:\\ProgramData\\Anaconda3\\lib\\site-packages\\sklearn\\ensemble\\forest.py:246: FutureWarning: The default value of n_estimators will change from 10 in version 0.20 to 100 in 0.22.\n",
      "  \"10 in version 0.20 to 100 in 0.22.\", FutureWarning)\n"
     ]
    },
    {
     "data": {
      "text/plain": [
       "RandomForestRegressor(bootstrap=True, criterion='mse', max_depth=None,\n",
       "           max_features='auto', max_leaf_nodes=None,\n",
       "           min_impurity_decrease=0.0, min_impurity_split=None,\n",
       "           min_samples_leaf=1, min_samples_split=2,\n",
       "           min_weight_fraction_leaf=0.0, n_estimators=10, n_jobs=None,\n",
       "           oob_score=False, random_state=None, verbose=0, warm_start=False)"
      ]
     },
     "execution_count": 13,
     "metadata": {},
     "output_type": "execute_result"
    }
   ],
   "source": [
    "rf = RandomForestRegressor() # Init\n",
    "rf.fit(train_x, train_y) # Train"
   ]
  },
  {
   "cell_type": "markdown",
   "metadata": {},
   "source": [
    "# Random Forest Regressor Score and MSE\n",
    "1. Score (0.0 to 1.0) 1.0 being the highest \n",
    "2. MSE (0.0 to 1.0) 0.0 being the best"
   ]
  },
  {
   "cell_type": "code",
   "execution_count": 14,
   "metadata": {},
   "outputs": [
    {
     "name": "stdout",
     "output_type": "stream",
     "text": [
      "Training Set Score Random Forest  : 0.9997763252087495\n",
      "Validation Set Score Random Forest  : 0.998783134402813\n",
      "Test Set Score Random Forest  : 0.9936724814378314\n",
      "Training Set MSE Random Forest : 0.004265135697443644\n",
      "Validation Set MSE Random Forest : 0.022514015478263358\n",
      "Test Set MSE Random Forest : 0.12105151228615302\n"
     ]
    }
   ],
   "source": [
    "# MSE on training set\n",
    "print(\"Training Set Score Random Forest  :\", rf.score(train_x,train_y))\n",
    "\n",
    "# MSE on validation set\n",
    "print(\"Validation Set Score Random Forest  :\", rf.score(val_x, val_y))\n",
    "\n",
    "# MSE on test set\n",
    "print(\"Test Set Score Random Forest  :\", rf.score(test_x, test_y))\n",
    "\n",
    "# MSE on training set\n",
    "print(\"Training Set MSE Random Forest :\", mean_squared_error(train_y, rf.predict(train_x)))\n",
    "\n",
    "# MSE on validation set\n",
    "print(\"Validation Set MSE Random Forest :\", mean_squared_error(val_y, rf.predict(val_x)))\n",
    "\n",
    "# MSE on test set\n",
    "print(\"Test Set MSE Random Forest :\", mean_squared_error(test_y, rf.predict(test_x)))"
   ]
  },
  {
   "cell_type": "markdown",
   "metadata": {},
   "source": [
    "# 5 Fold Cross Validation"
   ]
  },
  {
   "cell_type": "code",
   "execution_count": 15,
   "metadata": {},
   "outputs": [
    {
     "name": "stderr",
     "output_type": "stream",
     "text": [
      "C:\\ProgramData\\Anaconda3\\lib\\site-packages\\sklearn\\ensemble\\forest.py:246: FutureWarning: The default value of n_estimators will change from 10 in version 0.20 to 100 in 0.22.\n",
      "  \"10 in version 0.20 to 100 in 0.22.\", FutureWarning)\n",
      "C:\\ProgramData\\Anaconda3\\lib\\site-packages\\sklearn\\ensemble\\forest.py:246: FutureWarning: The default value of n_estimators will change from 10 in version 0.20 to 100 in 0.22.\n",
      "  \"10 in version 0.20 to 100 in 0.22.\", FutureWarning)\n",
      "C:\\ProgramData\\Anaconda3\\lib\\site-packages\\sklearn\\ensemble\\forest.py:246: FutureWarning: The default value of n_estimators will change from 10 in version 0.20 to 100 in 0.22.\n",
      "  \"10 in version 0.20 to 100 in 0.22.\", FutureWarning)\n",
      "C:\\ProgramData\\Anaconda3\\lib\\site-packages\\sklearn\\ensemble\\forest.py:246: FutureWarning: The default value of n_estimators will change from 10 in version 0.20 to 100 in 0.22.\n",
      "  \"10 in version 0.20 to 100 in 0.22.\", FutureWarning)\n",
      "C:\\ProgramData\\Anaconda3\\lib\\site-packages\\sklearn\\ensemble\\forest.py:246: FutureWarning: The default value of n_estimators will change from 10 in version 0.20 to 100 in 0.22.\n",
      "  \"10 in version 0.20 to 100 in 0.22.\", FutureWarning)\n"
     ]
    },
    {
     "name": "stdout",
     "output_type": "stream",
     "text": [
      "{'test': {'mse': [0.0977526281999102,\n",
      "                  0.09797825979186497,\n",
      "                  0.09330910188764954,\n",
      "                  0.09865825302156833,\n",
      "                  0.09530758674924877],\n",
      "          'score': [0.994890344137349,\n",
      "                    0.9948785500832366,\n",
      "                    0.9951226129846467,\n",
      "                    0.9948430059607235,\n",
      "                    0.995018149605221]},\n",
      " 'train': {'mse': [0.004271817596003846,\n",
      "                   0.004069612334458036,\n",
      "                   0.004337291337972447,\n",
      "                   0.0043104994616014174,\n",
      "                   0.004876417912105869],\n",
      "           'score': [0.999777159370181,\n",
      "                     0.9997876399343822,\n",
      "                     0.9997735412403471,\n",
      "                     0.9997751544143901,\n",
      "                     0.9997454100688877]},\n",
      " 'val': {'mse': [0.018628223493236024,\n",
      "                 0.023824317984711896,\n",
      "                 0.02135315777118441,\n",
      "                 0.018497139833607675,\n",
      "                 0.01847559982212947],\n",
      "         'score': [0.9990265462727786,\n",
      "                   0.9987566044056745,\n",
      "                   0.9988881417555486,\n",
      "                   0.9990331717854622,\n",
      "                   0.9990377106760282]}}\n"
     ]
    }
   ],
   "source": [
    "rf_cv_result = cross_validate(RandomForestRegressor(), crossValidationSet, test_x, test_y)\n",
    "pprint(rf_cv_result)"
   ]
  },
  {
   "cell_type": "code",
   "execution_count": 18,
   "metadata": {},
   "outputs": [],
   "source": [
    "rf_predictions = rf.predict(test_x)"
   ]
  },
  {
   "cell_type": "code",
   "execution_count": 19,
   "metadata": {},
   "outputs": [
    {
     "data": {
      "text/plain": [
       "<matplotlib.collections.PathCollection at 0x134000a4198>"
      ]
     },
     "execution_count": 19,
     "metadata": {},
     "output_type": "execute_result"
    },
    {
     "data": {
      "image/png": "[encoded data removed]",
      "text/plain": [
       "<Figure size 432x288 with 1 Axes>"
      ]
     },
     "metadata": {
      "needs_background": "light"
     },
     "output_type": "display_data"
    }
   ],
   "source": [
    "plt.scatter(test_y,rf_predictions)"
   ]
  },
  {
   "cell_type": "markdown",
   "metadata": {},
   "source": [
    "# Grid Search for Hyperparameter Tuning"
   ]
  },
  {
   "cell_type": "code",
   "execution_count": 48,
   "metadata": {},
   "outputs": [
    {
     "name": "stdout",
     "output_type": "stream",
     "text": [
      "{'max_depth': 1, 'n_estimators': 1}\n",
      "{'max_depth': 1, 'n_estimators': 10}\n",
      "{'max_depth': 1, 'n_estimators': 100}\n",
      "{'max_depth': 10, 'n_estimators': 1}\n",
      "{'max_depth': 10, 'n_estimators': 10}\n",
      "{'max_depth': 10, 'n_estimators': 100}\n",
      "{'max_depth': 20, 'n_estimators': 1}\n",
      "{'max_depth': 20, 'n_estimators': 10}\n",
      "{'max_depth': 20, 'n_estimators': 100}\n"
     ]
    }
   ],
   "source": [
    "# Random Forest Regression Params\n",
    "# n_estimators : [1, 10, 50, 100] This can be any value, but choosing these three for faster computation.\n",
    "# max_depth : [1, 10, 20]  This can be any value, but choosing these three for faster computation.\n",
    "# More params here : https://scikit-learn.org/stable/modules/generated/sklearn.ensemble.RandomForestRegressor.html\n",
    "params = {\"n_estimators\" : [1, 10, 100], \"max_depth\" : [1, 10, 20]}\n",
    "grid = list(ParameterGrid(params))\n",
    "result = [] # This result will contain the results for 5 cross validations per param combination created by ParameterGrid\n",
    "for param in grid :\n",
    "  print(param)\n",
    "#   result.append(cross_validate(RandomForestRegressor(*param),crossValidationSet, test_x, test_y))"
   ]
  },
  {
   "cell_type": "markdown",
   "metadata": {},
   "source": [
    "# Neural Net - Multi Layer Perceptron"
   ]
  },
  {
   "cell_type": "code",
   "execution_count": 46,
   "metadata": {},
   "outputs": [
    {
     "data": {
      "text/plain": [
       "MLPRegressor(activation='relu', alpha=0.0001, batch_size='auto', beta_1=0.9,\n",
       "       beta_2=0.999, early_stopping=False, epsilon=1e-08,\n",
       "       hidden_layer_sizes=(100,), learning_rate='constant',\n",
       "       learning_rate_init=0.001, max_iter=200, momentum=0.9,\n",
       "       n_iter_no_change=10, nesterovs_momentum=True, power_t=0.5,\n",
       "       random_state=None, shuffle=True, solver='adam', tol=0.0001,\n",
       "       validation_fraction=0.1, verbose=False, warm_start=False)"
      ]
     },
     "execution_count": 46,
     "metadata": {},
     "output_type": "execute_result"
    }
   ],
   "source": [
    "nn = MLPRegressor() # Init\n",
    "nn.fit(train_x, train_y) # Train"
   ]
  },
  {
   "cell_type": "markdown",
   "metadata": {},
   "source": [
    "# Multi Layer Perceptron Score and MSE. \n",
    "1. Score (0.0 to 1.0) 1.0 being the highest \n",
    "2. MSE (0.0 to 1.0) 0.0 being the best"
   ]
  },
  {
   "cell_type": "code",
   "execution_count": 47,
   "metadata": {},
   "outputs": [
    {
     "name": "stdout",
     "output_type": "stream",
     "text": [
      "Training Set Score Multi Layer Perceptron : 0.8960187387824099\n",
      "Validation Set Score Multi Layer Perceptron : 0.8562651868009161\n",
      "Test Set Score Multi Layer Perceptron : 0.8453298472727778\n",
      "Training Set MSE Multi Layer Perceptron : 1.9827633977212646\n",
      "Validation Set MSE Multi Layer Perceptron : 2.6593305099676865\n",
      "Test Set MSE Multi Layer Perceptron : 2.958988695047547\n"
     ]
    }
   ],
   "source": [
    "# MSE on training set\n",
    "print(\"Training Set Score Multi Layer Perceptron :\", nn.score(train_x, train_y))\n",
    "\n",
    "# MSE on validation set\n",
    "print(\"Validation Set Score Multi Layer Perceptron :\", nn.score(val_x, val_y))\n",
    "\n",
    "# MSE on test set\n",
    "print(\"Test Set Score Multi Layer Perceptron :\", nn.score(test_x, test_y))\n",
    "\n",
    "# MSE on training set\n",
    "print(\"Training Set MSE Multi Layer Perceptron :\", mean_squared_error(train_y, nn.predict(train_x)))\n",
    "\n",
    "# MSE on validation set\n",
    "print(\"Validation Set MSE Multi Layer Perceptron :\", mean_squared_error(val_y, nn.predict(val_x)))\n",
    "\n",
    "# MSE on test set\n",
    "print(\"Test Set MSE Multi Layer Perceptron :\", mean_squared_error(test_y, nn.predict(test_x)))"
   ]
  },
  {
   "cell_type": "code",
   "execution_count": 20,
   "metadata": {},
   "outputs": [],
   "source": [
    "nn_predictions = nn.predict(test_x)"
   ]
  },
  {
   "cell_type": "code",
   "execution_count": 21,
   "metadata": {},
   "outputs": [
    {
     "data": {
      "text/plain": [
       "<matplotlib.collections.PathCollection at 0x13400229278>"
      ]
     },
     "execution_count": 21,
     "metadata": {},
     "output_type": "execute_result"
    },
    {
     "data": {
      "image/png": "[encoded data removed]",
      "text/plain": [
       "<Figure size 432x288 with 1 Axes>"
      ]
     },
     "metadata": {
      "needs_background": "light"
     },
     "output_type": "display_data"
    }
   ],
   "source": [
    "plt.scatter(test_y,nn_predictions)"
   ]
  },
  {
   "cell_type": "code",
   "execution_count": null,
   "metadata": {},
   "outputs": [],
   "source": []
  }
 ],
 "metadata": {
  "kernelspec": {
   "display_name": "Python 3",
   "language": "python",
   "name": "python3"
  },
  "language_info": {
   "codemirror_mode": {
    "name": "ipython",
    "version": 3
   },
   "file_extension": ".py",
   "mimetype": "text/x-python",
   "name": "python",
   "nbconvert_exporter": "python",
   "pygments_lexer": "ipython3",
   "version": "3.7.1"
  }
 },
 "nbformat": 4,
 "nbformat_minor": 2
}
