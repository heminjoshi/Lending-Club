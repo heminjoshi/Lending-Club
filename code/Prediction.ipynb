{
 "cells": [
  {
   "cell_type": "code",
   "execution_count": 1,
   "metadata": {},
   "outputs": [],
   "source": [
    "import numpy as np\n",
    "import pandas as pd\n",
    "import seaborn as sb\n",
    "import matplotlib.pyplot as plt   #Data visualisation libraries \n",
    "import sklearn\n",
    "from sklearn.model_selection import cross_val_score\n",
    "# Sci-kit Learn Models\n",
    "from sklearn.linear_model import LinearRegression\n",
    "from sklearn.ensemble import RandomForestRegressor\n",
    "from sklearn.neural_network import MLPRegressor\n",
    "# Metrics\n",
    "from sklearn.metrics import mean_squared_error\n",
    "from pprint import pprint\n",
    "import copy\n",
    "from sklearn.model_selection import ParameterGrid"
   ]
  },
  {
   "cell_type": "code",
   "execution_count": 2,
   "metadata": {},
   "outputs": [
    {
     "data": {
      "text/html": [
       "<div>\n",
       "<style scoped>\n",
       "    .dataframe tbody tr th:only-of-type {\n",
       "        vertical-align: middle;\n",
       "    }\n",
       "\n",
       "    .dataframe tbody tr th {\n",
       "        vertical-align: top;\n",
       "    }\n",
       "\n",
       "    .dataframe thead th {\n",
       "        text-align: right;\n",
       "    }\n",
       "</style>\n",
       "<table border=\"1\" class=\"dataframe\">\n",
       "  <thead>\n",
       "    <tr style=\"text-align: right;\">\n",
       "      <th></th>\n",
       "      <th>Unnamed: 0</th>\n",
       "      <th>loan_amnt</th>\n",
       "      <th>funded_amnt</th>\n",
       "      <th>funded_amnt_inv</th>\n",
       "      <th>term</th>\n",
       "      <th>int_rate</th>\n",
       "      <th>installment</th>\n",
       "      <th>grade</th>\n",
       "      <th>sub_grade</th>\n",
       "      <th>home_ownership</th>\n",
       "      <th>...</th>\n",
       "      <th>recoveries</th>\n",
       "      <th>collection_recovery_fee</th>\n",
       "      <th>last_pymnt_amnt</th>\n",
       "      <th>collections_12_mths_ex_med</th>\n",
       "      <th>mths_since_last_major_derog</th>\n",
       "      <th>policy_code</th>\n",
       "      <th>application_type</th>\n",
       "      <th>annual_inc_joint</th>\n",
       "      <th>dti_joint</th>\n",
       "      <th>acc_now_delinq</th>\n",
       "    </tr>\n",
       "  </thead>\n",
       "  <tbody>\n",
       "    <tr>\n",
       "      <th>0</th>\n",
       "      <td>0</td>\n",
       "      <td>5000.0</td>\n",
       "      <td>5000.0</td>\n",
       "      <td>4975.0</td>\n",
       "      <td>1</td>\n",
       "      <td>10.65</td>\n",
       "      <td>162.87</td>\n",
       "      <td>2</td>\n",
       "      <td>7</td>\n",
       "      <td>6</td>\n",
       "      <td>...</td>\n",
       "      <td>0.00</td>\n",
       "      <td>0.00</td>\n",
       "      <td>171.62</td>\n",
       "      <td>0.0</td>\n",
       "      <td>44.104838</td>\n",
       "      <td>1.0</td>\n",
       "      <td>1</td>\n",
       "      <td>109981.011585</td>\n",
       "      <td>18.310118</td>\n",
       "      <td>0.0</td>\n",
       "    </tr>\n",
       "    <tr>\n",
       "      <th>1</th>\n",
       "      <td>1</td>\n",
       "      <td>2500.0</td>\n",
       "      <td>2500.0</td>\n",
       "      <td>2500.0</td>\n",
       "      <td>2</td>\n",
       "      <td>15.27</td>\n",
       "      <td>59.83</td>\n",
       "      <td>3</td>\n",
       "      <td>14</td>\n",
       "      <td>6</td>\n",
       "      <td>...</td>\n",
       "      <td>117.08</td>\n",
       "      <td>1.11</td>\n",
       "      <td>119.66</td>\n",
       "      <td>0.0</td>\n",
       "      <td>44.104838</td>\n",
       "      <td>1.0</td>\n",
       "      <td>1</td>\n",
       "      <td>109981.011585</td>\n",
       "      <td>18.310118</td>\n",
       "      <td>0.0</td>\n",
       "    </tr>\n",
       "    <tr>\n",
       "      <th>2</th>\n",
       "      <td>2</td>\n",
       "      <td>2400.0</td>\n",
       "      <td>2400.0</td>\n",
       "      <td>2400.0</td>\n",
       "      <td>1</td>\n",
       "      <td>15.96</td>\n",
       "      <td>84.33</td>\n",
       "      <td>3</td>\n",
       "      <td>15</td>\n",
       "      <td>6</td>\n",
       "      <td>...</td>\n",
       "      <td>0.00</td>\n",
       "      <td>0.00</td>\n",
       "      <td>649.91</td>\n",
       "      <td>0.0</td>\n",
       "      <td>44.104838</td>\n",
       "      <td>1.0</td>\n",
       "      <td>1</td>\n",
       "      <td>109981.011585</td>\n",
       "      <td>18.310118</td>\n",
       "      <td>0.0</td>\n",
       "    </tr>\n",
       "    <tr>\n",
       "      <th>3</th>\n",
       "      <td>3</td>\n",
       "      <td>10000.0</td>\n",
       "      <td>10000.0</td>\n",
       "      <td>10000.0</td>\n",
       "      <td>1</td>\n",
       "      <td>13.49</td>\n",
       "      <td>339.31</td>\n",
       "      <td>3</td>\n",
       "      <td>11</td>\n",
       "      <td>6</td>\n",
       "      <td>...</td>\n",
       "      <td>0.00</td>\n",
       "      <td>0.00</td>\n",
       "      <td>357.48</td>\n",
       "      <td>0.0</td>\n",
       "      <td>44.104838</td>\n",
       "      <td>1.0</td>\n",
       "      <td>1</td>\n",
       "      <td>109981.011585</td>\n",
       "      <td>18.310118</td>\n",
       "      <td>0.0</td>\n",
       "    </tr>\n",
       "    <tr>\n",
       "      <th>4</th>\n",
       "      <td>4</td>\n",
       "      <td>3000.0</td>\n",
       "      <td>3000.0</td>\n",
       "      <td>3000.0</td>\n",
       "      <td>2</td>\n",
       "      <td>12.69</td>\n",
       "      <td>67.79</td>\n",
       "      <td>2</td>\n",
       "      <td>10</td>\n",
       "      <td>6</td>\n",
       "      <td>...</td>\n",
       "      <td>0.00</td>\n",
       "      <td>0.00</td>\n",
       "      <td>67.79</td>\n",
       "      <td>0.0</td>\n",
       "      <td>44.104838</td>\n",
       "      <td>1.0</td>\n",
       "      <td>1</td>\n",
       "      <td>109981.011585</td>\n",
       "      <td>18.310118</td>\n",
       "      <td>0.0</td>\n",
       "    </tr>\n",
       "  </tbody>\n",
       "</table>\n",
       "<p>5 rows × 42 columns</p>\n",
       "</div>"
      ],
      "text/plain": [
       "   Unnamed: 0  loan_amnt  funded_amnt  funded_amnt_inv  term  int_rate  \\\n",
       "0           0     5000.0       5000.0           4975.0     1     10.65   \n",
       "1           1     2500.0       2500.0           2500.0     2     15.27   \n",
       "2           2     2400.0       2400.0           2400.0     1     15.96   \n",
       "3           3    10000.0      10000.0          10000.0     1     13.49   \n",
       "4           4     3000.0       3000.0           3000.0     2     12.69   \n",
       "\n",
       "   installment  grade  sub_grade  home_ownership       ...        recoveries  \\\n",
       "0       162.87      2          7               6       ...              0.00   \n",
       "1        59.83      3         14               6       ...            117.08   \n",
       "2        84.33      3         15               6       ...              0.00   \n",
       "3       339.31      3         11               6       ...              0.00   \n",
       "4        67.79      2         10               6       ...              0.00   \n",
       "\n",
       "   collection_recovery_fee  last_pymnt_amnt  collections_12_mths_ex_med  \\\n",
       "0                     0.00           171.62                         0.0   \n",
       "1                     1.11           119.66                         0.0   \n",
       "2                     0.00           649.91                         0.0   \n",
       "3                     0.00           357.48                         0.0   \n",
       "4                     0.00            67.79                         0.0   \n",
       "\n",
       "   mths_since_last_major_derog  policy_code  application_type  \\\n",
       "0                    44.104838          1.0                 1   \n",
       "1                    44.104838          1.0                 1   \n",
       "2                    44.104838          1.0                 1   \n",
       "3                    44.104838          1.0                 1   \n",
       "4                    44.104838          1.0                 1   \n",
       "\n",
       "   annual_inc_joint  dti_joint  acc_now_delinq  \n",
       "0     109981.011585  18.310118             0.0  \n",
       "1     109981.011585  18.310118             0.0  \n",
       "2     109981.011585  18.310118             0.0  \n",
       "3     109981.011585  18.310118             0.0  \n",
       "4     109981.011585  18.310118             0.0  \n",
       "\n",
       "[5 rows x 42 columns]"
      ]
     },
     "execution_count": 2,
     "metadata": {},
     "output_type": "execute_result"
    }
   ],
   "source": [
    "loan_df = pd.read_csv('D:\\Academic\\Data Science\\lc_data/cleaned_data.csv')\n",
    "loan_df.head(5)"
   ]
  },
  {
   "cell_type": "code",
   "execution_count": 3,
   "metadata": {},
   "outputs": [],
   "source": [
    "# Labels (y_true of this dataset)\n",
    "y = loan_df.pop(\"int_rate\")"
   ]
  },
  {
   "cell_type": "code",
   "execution_count": 4,
   "metadata": {},
   "outputs": [],
   "source": [
    "train = int(len(loan_df) * 0.60)\n",
    "val = int(len(loan_df) * 0.20)\n",
    "test = int(len(loan_df) * 0.20)"
   ]
  },
  {
   "cell_type": "code",
   "execution_count": 5,
   "metadata": {},
   "outputs": [],
   "source": [
    "def cross_validate(clf, df, test_x, test_y, k = 5) :\n",
    "  # Build the metric dict.\n",
    "  metric = {\"train\":{\"mse\": [], \"score\": []},\n",
    "            \"val\" : {\"mse\": [], \"score\": []},\n",
    "            \"test\" :{\"mse\": [], \"score\": []}};\n",
    "\n",
    "  split = int(len(df) * 0.80)\n",
    "  for i in range(k) :\n",
    "    df = df.sample(frac=1)\n",
    "    y = df[\"label\"]\n",
    "    x = df.loc[:, df.columns != 'label']\n",
    "    train_x, train_y = x[:split],y[:split]\n",
    "    val_x, val_y = x[split:], y[split:]\n",
    "    model = copy.deepcopy(clf)\n",
    "    model.fit(train_x, train_y)  \n",
    "    # Log the Mean Square Error\n",
    "    metric[\"train\"][\"mse\"].append(mean_squared_error(train_y,model.predict(train_x)))\n",
    "    metric[\"val\"][\"mse\"].append(mean_squared_error(val_y,model.predict(val_x)))\n",
    "    metric['test'][\"mse\"].append(mean_squared_error(test_y,model.predict(test_x))) \n",
    "    # Log the Model Score\n",
    "    metric[\"train\"][\"score\"].append(model.score(train_x,train_y))\n",
    "    metric[\"val\"][\"score\"].append(model.score(val_x,val_y))\n",
    "    metric[\"test\"][\"score\"].append(model.score(test_x,test_y))    \n",
    "  return metric\n",
    "  "
   ]
  },
  {
   "cell_type": "code",
   "execution_count": 6,
   "metadata": {},
   "outputs": [],
   "source": [
    "crossValidationSet = copy.deepcopy(loan_df[:train+val]);\n",
    "crossValidationSet[\"label\"] = y[:train+val];"
   ]
  },
  {
   "cell_type": "code",
   "execution_count": 7,
   "metadata": {},
   "outputs": [],
   "source": [
    "def mape(y_true, y_pred): \n",
    "    y_true, y_pred = np.array(y_true), np.array(y_pred)\n",
    "    return np.mean(np.abs((y_true - y_pred) / y_true)) * 100"
   ]
  },
  {
   "cell_type": "code",
   "execution_count": 8,
   "metadata": {},
   "outputs": [],
   "source": [
    "train_x,train_y = loan_df[:train], y[:train]\n",
    "val_x, val_y = loan_df[train: train + val], y[train: train + val]\n",
    "test_x, test_y = loan_df[train + test :], y[train + test :]\n",
    "\n",
    "assert len(train_x) == train, \"Training set length does not match expected train length\"\n",
    "assert len(val_x) == val, \"Validation set length does not match expected validation length\"\n",
    "assert len(test_x) >= test , \"Test set length does not match expected test length\""
   ]
  },
  {
   "cell_type": "code",
   "execution_count": 9,
   "metadata": {},
   "outputs": [
    {
     "data": {
      "text/plain": [
       "LinearRegression(copy_X=True, fit_intercept=True, n_jobs=None,\n",
       "         normalize=False)"
      ]
     },
     "execution_count": 9,
     "metadata": {},
     "output_type": "execute_result"
    }
   ],
   "source": [
    "lr = LinearRegression() # Init\n",
    "lr.fit(train_x, train_y) # Train"
   ]
  },
  {
   "cell_type": "markdown",
   "metadata": {},
   "source": [
    "# Linear Regression Score and MSE\n",
    "\n",
    "1. Score (0.0 to 1.0) 1.0 being the highest \n",
    "2. MSE (0.0 to 1.0) 0.0 being the best"
   ]
  },
  {
   "cell_type": "code",
   "execution_count": 10,
   "metadata": {},
   "outputs": [
    {
     "name": "stdout",
     "output_type": "stream",
     "text": [
      "********************MSE********************\n",
      "Training Set Score Linear Regression: 0.9602038090793331\n",
      "Validation Set Score Linear Regression: 0.9837360795034014\n",
      "Test Set Score Linear Regression: 0.9870914423635125\n",
      "Training Set MSE Linear Regression: 0.7588524105425732\n",
      "Validation Set MSE Linear Regression: 0.30090928582755705\n",
      "Test Set MSE Linear Regression: 0.24695311566090825\n",
      "********************MAPE********************\n",
      "Training Set Score Linear Regression: 0.9602038090793331\n",
      "Validation Set Score Linear Regression: 0.9837360795034014\n",
      "Test Set Score Linear Regression: 0.9870914423635125\n",
      "Training Set MAPE Linear Regression: 4.992220117102113\n",
      "Validation Set MAPE Linear Regression: 4.130548073703696\n",
      "Test Set MAPE Linear Regression: 3.564994794289469\n"
     ]
    }
   ],
   "source": [
    "print(\"********************MSE********************\")\n",
    "# MSE on training set\n",
    "print(\"Training Set Score Linear Regression:\", lr.score(train_x,train_y))\n",
    "\n",
    "# MSE on validation set\n",
    "print(\"Validation Set Score Linear Regression:\", lr.score(val_x, val_y))\n",
    "\n",
    "# MSE on test set\n",
    "print(\"Test Set Score Linear Regression:\", lr.score(test_x, test_y))\n",
    "\n",
    "# MSE on training set\n",
    "print(\"Training Set MSE Linear Regression:\", mean_squared_error(train_y, lr.predict(train_x)))\n",
    "\n",
    "# MSE on validation set\n",
    "print(\"Validation Set MSE Linear Regression:\", mean_squared_error(val_y, lr.predict(val_x)))\n",
    "\n",
    "# MSE on test set\n",
    "print(\"Test Set MSE Linear Regression:\", mean_squared_error(test_y, lr.predict(test_x)))\n",
    "\n",
    "print(\"********************MAPE********************\")\n",
    "# MSE on training set\n",
    "print(\"Training Set Score Linear Regression:\", lr.score(train_x,train_y))\n",
    "\n",
    "# MSE on validation set\n",
    "print(\"Validation Set Score Linear Regression:\", lr.score(val_x, val_y))\n",
    "\n",
    "# MAPE on test set\n",
    "print(\"Test Set Score Linear Regression:\", lr.score(test_x, test_y))\n",
    "\n",
    "# MAPE on training set\n",
    "print(\"Training Set MAPE Linear Regression:\", mape(train_y, lr.predict(train_x)))\n",
    "\n",
    "# MAPE on validation set\n",
    "print(\"Validation Set MAPE Linear Regression:\", mape(val_y, lr.predict(val_x)))\n",
    "\n",
    "# MAPE on test set\n",
    "print(\"Test Set MAPE Linear Regression:\", mape(test_y, lr.predict(test_x)))"
   ]
  },
  {
   "cell_type": "markdown",
   "metadata": {},
   "source": [
    "# 5 Fold Cross Validation"
   ]
  },
  {
   "cell_type": "code",
   "execution_count": 11,
   "metadata": {},
   "outputs": [
    {
     "name": "stdout",
     "output_type": "stream",
     "text": [
      "{'test': {'mse': [0.17061556902399538,\n",
      "                  0.1703140677036535,\n",
      "                  0.1700443849624535,\n",
      "                  0.1707314468752517,\n",
      "                  0.17009841907720466],\n",
      "          'score': [0.9910817043124394,\n",
      "                    0.991097464175038,\n",
      "                    0.991111560839496,\n",
      "                    0.9910756472278072,\n",
      "                    0.9911087364066771]},\n",
      " 'train': {'mse': [0.6227394811032286,\n",
      "                   0.6243372683569888,\n",
      "                   0.621668917426476,\n",
      "                   0.6226574544858712,\n",
      "                   0.6229962539977804],\n",
      "           'score': [0.9675433350061222,\n",
      "                     0.9674032629279352,\n",
      "                     0.9675387584081545,\n",
      "                     0.9674413238662998,\n",
      "                     0.9675182761783284]},\n",
      " 'val': {'mse': [0.6153936822373521,\n",
      "                 0.6089792901278908,\n",
      "                 0.6196493967487811,\n",
      "                 0.615683424714312,\n",
      "                 0.6143644854617714],\n",
      "         'score': [0.9677271668880556,\n",
      "                   0.968285949137931,\n",
      "                   0.9677453471930246,\n",
      "                   0.9681306960640007,\n",
      "                   0.9678273093600984]}}\n"
     ]
    }
   ],
   "source": [
    "lr_cv = LinearRegression()\n",
    "cv_result = cross_validate(lr_cv, crossValidationSet, test_x, test_y)\n",
    "pprint(cv_result)"
   ]
  },
  {
   "cell_type": "code",
   "execution_count": 12,
   "metadata": {},
   "outputs": [],
   "source": [
    "lr_predictions = lr.predict(test_x)"
   ]
  },
  {
   "cell_type": "code",
   "execution_count": 13,
   "metadata": {},
   "outputs": [
    {
     "data": {
      "text/plain": [
       "<matplotlib.collections.PathCollection at 0x2ba0004ff60>"
      ]
     },
     "execution_count": 13,
     "metadata": {},
     "output_type": "execute_result"
    },
    {
     "data": {
      "image/png": "[encoded data removed]",
      "text/plain": [
       "<Figure size 432x288 with 1 Axes>"
      ]
     },
     "metadata": {
      "needs_background": "light"
     },
     "output_type": "display_data"
    }
   ],
   "source": [
    "plt.scatter(test_y,lr_predictions)"
   ]
  },
  {
   "cell_type": "markdown",
   "metadata": {},
   "source": [
    "# Grid Search for Hyperparameter Tuning"
   ]
  },
  {
   "cell_type": "code",
   "execution_count": 14,
   "metadata": {},
   "outputs": [],
   "source": [
    "# Linear Regression Params\n",
    "fit_intercept : bool\n",
    "normalize : bool\n",
    "params = {\"fit_intercept\":[True, False], \"normalize\" : [True, False]}\n",
    "grid = list(ParameterGrid(params))\n",
    "result = [] # This result will contain the results for 5 cross validations per param combination created by ParameterGrid\n",
    "for param in grid :\n",
    "  result.append(cross_validate(LinearRegression(param),crossValidationSet, test_x, test_y))\n",
    "  "
   ]
  },
  {
   "cell_type": "code",
   "execution_count": 15,
   "metadata": {},
   "outputs": [
    {
     "name": "stdout",
     "output_type": "stream",
     "text": [
      "Result of {'fit_intercept': True, 'normalize': True} hyper parameters is\n",
      "{'test': {'mse': [0.17018501011689474,\n",
      "                  0.1704943030911314,\n",
      "                  0.1698396232932623,\n",
      "                  0.17051527679199388,\n",
      "                  0.16970607523952727],\n",
      "          'score': [0.9911042101814312,\n",
      "                    0.9910880430390415,\n",
      "                    0.9911222639958479,\n",
      "                    0.9910869467166658,\n",
      "                    0.9911292447247375]},\n",
      " 'train': {'mse': [0.620330581052045,\n",
      "                   0.6195367772241203,\n",
      "                   0.6221955109506451,\n",
      "                   0.6203635177863301,\n",
      "                   0.6214183346735717],\n",
      "           'score': [0.9676455609602493,\n",
      "                     0.9676948477869544,\n",
      "                     0.9675490767236073,\n",
      "                     0.9676644549647442,\n",
      "                     0.9675804098975902]},\n",
      " 'val': {'mse': [0.6250371918814074,\n",
      "                 0.6282212091575443,\n",
      "                 0.6175717308152361,\n",
      "                 0.62494443658225,\n",
      "                 0.6206301553907204],\n",
      "         'score': [0.9673162701429973,\n",
      "                   0.9671175413125868,\n",
      "                   0.9677028084243466,\n",
      "                   0.9672372107234851,\n",
      "                   0.9675800250167085]}}\n"
     ]
    }
   ],
   "source": [
    "print(\"Result of\" , grid[0] , \"hyper parameters is\")\n",
    "pprint(result[0])"
   ]
  },
  {
   "cell_type": "markdown",
   "metadata": {},
   "source": [
    "\n",
    "# Random Forest"
   ]
  },
  {
   "cell_type": "code",
   "execution_count": 16,
   "metadata": {},
   "outputs": [
    {
     "name": "stderr",
     "output_type": "stream",
     "text": [
      "C:\\ProgramData\\Anaconda3\\lib\\site-packages\\sklearn\\ensemble\\forest.py:246: FutureWarning: The default value of n_estimators will change from 10 in version 0.20 to 100 in 0.22.\n",
      "  \"10 in version 0.20 to 100 in 0.22.\", FutureWarning)\n"
     ]
    },
    {
     "data": {
      "text/plain": [
       "RandomForestRegressor(bootstrap=True, criterion='mse', max_depth=None,\n",
       "           max_features='auto', max_leaf_nodes=None,\n",
       "           min_impurity_decrease=0.0, min_impurity_split=None,\n",
       "           min_samples_leaf=1, min_samples_split=2,\n",
       "           min_weight_fraction_leaf=0.0, n_estimators=10, n_jobs=None,\n",
       "           oob_score=False, random_state=None, verbose=0, warm_start=False)"
      ]
     },
     "execution_count": 16,
     "metadata": {},
     "output_type": "execute_result"
    }
   ],
   "source": [
    "rf = RandomForestRegressor() # Init\n",
    "rf.fit(train_x, train_y) # Train"
   ]
  },
  {
   "cell_type": "markdown",
   "metadata": {},
   "source": [
    "# Random Forest Regressor Score and MSE\n",
    "1. Score (0.0 to 1.0) 1.0 being the highest \n",
    "2. MSE (0.0 to 1.0) 0.0 being the best"
   ]
  },
  {
   "cell_type": "code",
   "execution_count": 17,
   "metadata": {},
   "outputs": [
    {
     "name": "stdout",
     "output_type": "stream",
     "text": [
      "********************MSE********************\n",
      "Training Set Score Random Forest  : 0.9997457001685103\n",
      "Validation Set Score Random Forest  : 0.9987745891684959\n",
      "Test Set Score Random Forest  : 0.9937007077888943\n",
      "Training Set MSE Random Forest : 0.004849108310673077\n",
      "Validation Set MSE Random Forest : 0.022672116371346484\n",
      "Test Set MSE Random Forest : 0.12051151505834266\n",
      "********************MAPE********************\n",
      "Training Set Score Random Forest  : 0.9997457001685103\n",
      "Validation Set Score Random Forest  : 0.9987745891684959\n",
      "Test Set Score Random Forest  : 0.9937007077888943\n",
      "Training Set MAPE Random Forest : 0.022840331564665806\n",
      "Validation Set MAPE Random Forest : 0.5370438252240357\n",
      "Test Set MAPE Random Forest : 1.7664873575416435\n"
     ]
    }
   ],
   "source": [
    "print(\"********************MSE********************\")\n",
    "# MSE on training set\n",
    "print(\"Training Set Score Random Forest  :\", rf.score(train_x,train_y))\n",
    "\n",
    "# MSE on validation set\n",
    "print(\"Validation Set Score Random Forest  :\", rf.score(val_x, val_y))\n",
    "\n",
    "# MSE on test set\n",
    "print(\"Test Set Score Random Forest  :\", rf.score(test_x, test_y))\n",
    "\n",
    "# MSE on training set\n",
    "print(\"Training Set MSE Random Forest :\", mean_squared_error(train_y, rf.predict(train_x)))\n",
    "\n",
    "# MSE on validation set\n",
    "print(\"Validation Set MSE Random Forest :\", mean_squared_error(val_y, rf.predict(val_x)))\n",
    "\n",
    "# MSE on test set\n",
    "print(\"Test Set MSE Random Forest :\", mean_squared_error(test_y, rf.predict(test_x)))\n",
    "\n",
    "print(\"********************MAPE********************\")\n",
    "# MAPE on training set\n",
    "print(\"Training Set Score Random Forest  :\", rf.score(train_x,train_y))\n",
    "\n",
    "# MAPE on validation set\n",
    "print(\"Validation Set Score Random Forest  :\", rf.score(val_x, val_y))\n",
    "\n",
    "# MAPE on test set\n",
    "print(\"Test Set Score Random Forest  :\", rf.score(test_x, test_y))\n",
    "\n",
    "# MAPE on training set\n",
    "print(\"Training Set MAPE Random Forest :\", mape(train_y, rf.predict(train_x)))\n",
    "\n",
    "# MAPE on validation set\n",
    "print(\"Validation Set MAPE Random Forest :\", mape(val_y, rf.predict(val_x)))\n",
    "\n",
    "# MAPE on test set\n",
    "print(\"Test Set MAPE Random Forest :\", mape(test_y, rf.predict(test_x)))"
   ]
  },
  {
   "cell_type": "markdown",
   "metadata": {},
   "source": [
    "# 5 Fold Cross Validation"
   ]
  },
  {
   "cell_type": "code",
   "execution_count": 18,
   "metadata": {},
   "outputs": [
    {
     "name": "stderr",
     "output_type": "stream",
     "text": [
      "C:\\ProgramData\\Anaconda3\\lib\\site-packages\\sklearn\\ensemble\\forest.py:246: FutureWarning: The default value of n_estimators will change from 10 in version 0.20 to 100 in 0.22.\n",
      "  \"10 in version 0.20 to 100 in 0.22.\", FutureWarning)\n",
      "C:\\ProgramData\\Anaconda3\\lib\\site-packages\\sklearn\\ensemble\\forest.py:246: FutureWarning: The default value of n_estimators will change from 10 in version 0.20 to 100 in 0.22.\n",
      "  \"10 in version 0.20 to 100 in 0.22.\", FutureWarning)\n",
      "C:\\ProgramData\\Anaconda3\\lib\\site-packages\\sklearn\\ensemble\\forest.py:246: FutureWarning: The default value of n_estimators will change from 10 in version 0.20 to 100 in 0.22.\n",
      "  \"10 in version 0.20 to 100 in 0.22.\", FutureWarning)\n",
      "C:\\ProgramData\\Anaconda3\\lib\\site-packages\\sklearn\\ensemble\\forest.py:246: FutureWarning: The default value of n_estimators will change from 10 in version 0.20 to 100 in 0.22.\n",
      "  \"10 in version 0.20 to 100 in 0.22.\", FutureWarning)\n",
      "C:\\ProgramData\\Anaconda3\\lib\\site-packages\\sklearn\\ensemble\\forest.py:246: FutureWarning: The default value of n_estimators will change from 10 in version 0.20 to 100 in 0.22.\n",
      "  \"10 in version 0.20 to 100 in 0.22.\", FutureWarning)\n"
     ]
    },
    {
     "name": "stdout",
     "output_type": "stream",
     "text": [
      "{'test': {'mse': [0.09548921806570645,\n",
      "                  0.09760166901235022,\n",
      "                  0.09687335310171181,\n",
      "                  0.10249839355200323,\n",
      "                  0.09752268441479132],\n",
      "          'score': [0.9950086555022176,\n",
      "                    0.9948982349686437,\n",
      "                    0.9949363049799691,\n",
      "                    0.9946422768659045,\n",
      "                    0.9949023635953561]},\n",
      " 'train': {'mse': [0.003901247345032048,\n",
      "                   0.00443350579363121,\n",
      "                   0.004985229762677462,\n",
      "                   0.004303093366379114,\n",
      "                   0.0036680943947042495],\n",
      "           'score': [0.9997964588598751,\n",
      "                     0.9997686101525965,\n",
      "                     0.9997397788120207,\n",
      "                     0.999775697067412,\n",
      "                     0.9998084235838823]},\n",
      " 'val': {'mse': [0.023173100661675272,\n",
      "                 0.02107708995514637,\n",
      "                 0.015560965730798333,\n",
      "                 0.02040456033523231,\n",
      "                 0.028496355532987662],\n",
      "         'score': [0.9987897769922763,\n",
      "                   0.9989007659677026,\n",
      "                   0.9991888999071066,\n",
      "                   0.9989304749548533,\n",
      "                   0.9985179796213886]}}\n"
     ]
    }
   ],
   "source": [
    "rf_cv_result = cross_validate(RandomForestRegressor(), crossValidationSet, test_x, test_y)\n",
    "pprint(rf_cv_result)"
   ]
  },
  {
   "cell_type": "code",
   "execution_count": 19,
   "metadata": {},
   "outputs": [],
   "source": [
    "rf_predictions = rf.predict(test_x)"
   ]
  },
  {
   "cell_type": "code",
   "execution_count": 20,
   "metadata": {},
   "outputs": [
    {
     "data": {
      "text/plain": [
       "<matplotlib.collections.PathCollection at 0x2ba000d7e10>"
      ]
     },
     "execution_count": 20,
     "metadata": {},
     "output_type": "execute_result"
    },
    {
     "data": {
      "image/png": "[encoded data removed]",
      "text/plain": [
       "<Figure size 432x288 with 1 Axes>"
      ]
     },
     "metadata": {
      "needs_background": "light"
     },
     "output_type": "display_data"
    }
   ],
   "source": [
    "plt.scatter(test_y,rf_predictions)"
   ]
  },
  {
   "cell_type": "markdown",
   "metadata": {},
   "source": [
    "# Grid Search for Hyperparameter Tuning"
   ]
  },
  {
   "cell_type": "code",
   "execution_count": 21,
   "metadata": {},
   "outputs": [
    {
     "name": "stdout",
     "output_type": "stream",
     "text": [
      "{'max_depth': 1, 'n_estimators': 1}\n",
      "{'max_depth': 1, 'n_estimators': 10}\n",
      "{'max_depth': 1, 'n_estimators': 100}\n",
      "{'max_depth': 10, 'n_estimators': 1}\n",
      "{'max_depth': 10, 'n_estimators': 10}\n",
      "{'max_depth': 10, 'n_estimators': 100}\n",
      "{'max_depth': 20, 'n_estimators': 1}\n",
      "{'max_depth': 20, 'n_estimators': 10}\n",
      "{'max_depth': 20, 'n_estimators': 100}\n"
     ]
    }
   ],
   "source": [
    "# Random Forest Regression Params\n",
    "# n_estimators : [1, 10, 50, 100] This can be any value, but choosing these three for faster computation.\n",
    "# max_depth : [1, 10, 20]  This can be any value, but choosing these three for faster computation.\n",
    "# More params here : https://scikit-learn.org/stable/modules/generated/sklearn.ensemble.RandomForestRegressor.html\n",
    "params = {\"n_estimators\" : [1, 10, 100], \"max_depth\" : [1, 10, 20]}\n",
    "grid = list(ParameterGrid(params))\n",
    "result = [] # This result will contain the results for 5 cross validations per param combination created by ParameterGrid\n",
    "for param in grid :\n",
    "  print(param)\n",
    "#   result.append(cross_validate(RandomForestRegressor(*param),crossValidationSet, test_x, test_y))"
   ]
  },
  {
   "cell_type": "markdown",
   "metadata": {},
   "source": [
    "# Neural Net - Multi Layer Perceptron"
   ]
  },
  {
   "cell_type": "code",
   "execution_count": 22,
   "metadata": {},
   "outputs": [
    {
     "data": {
      "text/plain": [
       "MLPRegressor(activation='relu', alpha=0.001, batch_size='auto', beta_1=0.9,\n",
       "       beta_2=0.999, early_stopping=False, epsilon=1e-08,\n",
       "       hidden_layer_sizes=(10,), learning_rate='constant',\n",
       "       learning_rate_init=0.01, max_iter=1000, momentum=0.9,\n",
       "       n_iter_no_change=10, nesterovs_momentum=True, power_t=0.5,\n",
       "       random_state=None, shuffle=True, solver='lbfgs', tol=0.0001,\n",
       "       validation_fraction=0.1, verbose=False, warm_start=False)"
      ]
     },
     "execution_count": 22,
     "metadata": {},
     "output_type": "execute_result"
    }
   ],
   "source": [
    "#nn = MLPRegressor() # Init\n",
    "nn = MLPRegressor(hidden_layer_sizes=(10,),  activation='relu', solver='lbfgs',alpha=0.001,batch_size='auto',\n",
    "              learning_rate='constant', learning_rate_init=0.01, power_t=0.5, max_iter=1000, shuffle=True,\n",
    "              random_state=None, tol=0.0001, verbose=False, warm_start=False, momentum=0.9,\n",
    "              nesterovs_momentum=True, early_stopping=False, validation_fraction=0.1, beta_1=0.9, beta_2=0.999,\n",
    "              epsilon=1e-08)\n",
    "nn.fit(train_x, train_y) # Train"
   ]
  },
  {
   "cell_type": "markdown",
   "metadata": {},
   "source": [
    "# Multi Layer Perceptron Score and MSE. \n",
    "1. Score (0.0 to 1.0) 1.0 being the highest \n",
    "2. MSE (0.0 to 1.0) 0.0 being the best"
   ]
  },
  {
   "cell_type": "code",
   "execution_count": 23,
   "metadata": {},
   "outputs": [
    {
     "name": "stdout",
     "output_type": "stream",
     "text": [
      "********************MSE********************\n",
      "Training Set Score Multi Layer Perceptron : 0.0974074524619698\n",
      "Validation Set Score Multi Layer Perceptron : 0.0533299090808349\n",
      "Test Set Score Multi Layer Perceptron : 0.055389749518645066\n",
      "Training Set MSE Multi Layer Perceptron : 17.211057505538808\n",
      "Validation Set MSE Multi Layer Perceptron : 17.514954099312554\n",
      "Test Set MSE Multi Layer Perceptron : 18.07130207810561\n",
      "********************MAPE********************\n",
      "Training Set Score Multi Layer Perceptron : 0.0974074524619698\n",
      "Validation Set Score Multi Layer Perceptron : 0.0533299090808349\n",
      "Test Set Score Multi Layer Perceptron : 0.055389749518645066\n",
      "Training Set MAPE Multi Layer Perceptron : 28.55378263920954\n",
      "Validation Set MAPE Multi Layer Perceptron : 31.20128755365637\n",
      "Test Set MAPE Multi Layer Perceptron : 29.102709655560684\n"
     ]
    }
   ],
   "source": [
    "print(\"********************MSE********************\")\n",
    "# MSE on training set\n",
    "print(\"Training Set Score Multi Layer Perceptron :\", nn.score(train_x, train_y))\n",
    "\n",
    "# MSE on validation set\n",
    "print(\"Validation Set Score Multi Layer Perceptron :\", nn.score(val_x, val_y))\n",
    "\n",
    "# MSE on test set\n",
    "print(\"Test Set Score Multi Layer Perceptron :\", nn.score(test_x, test_y))\n",
    "\n",
    "# MSE on training set\n",
    "print(\"Training Set MSE Multi Layer Perceptron :\", mean_squared_error(train_y, nn.predict(train_x)))\n",
    "\n",
    "# MSE on validation set\n",
    "print(\"Validation Set MSE Multi Layer Perceptron :\", mean_squared_error(val_y, nn.predict(val_x)))\n",
    "\n",
    "# MSE on test set\n",
    "print(\"Test Set MSE Multi Layer Perceptron :\", mean_squared_error(test_y, nn.predict(test_x)))\n",
    "\n",
    "print(\"********************MAPE********************\")\n",
    "# MSE on training set\n",
    "print(\"Training Set Score Multi Layer Perceptron :\", nn.score(train_x, train_y))\n",
    "\n",
    "# MSE on validation set\n",
    "print(\"Validation Set Score Multi Layer Perceptron :\", nn.score(val_x, val_y))\n",
    "\n",
    "# MSE on test set\n",
    "print(\"Test Set Score Multi Layer Perceptron :\", nn.score(test_x, test_y))\n",
    "\n",
    "# MSE on training set\n",
    "print(\"Training Set MAPE Multi Layer Perceptron :\", mape(train_y, nn.predict(train_x)))\n",
    "\n",
    "# MSE on validation set\n",
    "print(\"Validation Set MAPE Multi Layer Perceptron :\", mape(val_y, nn.predict(val_x)))\n",
    "\n",
    "# MSE on test set\n",
    "print(\"Test Set MAPE Multi Layer Perceptron :\", mape(test_y, nn.predict(test_x)))"
   ]
  },
  {
   "cell_type": "code",
   "execution_count": 24,
   "metadata": {},
   "outputs": [],
   "source": [
    "nn_predictions = nn.predict(test_x)"
   ]
  },
  {
   "cell_type": "code",
   "execution_count": 25,
   "metadata": {},
   "outputs": [
    {
     "data": {
      "text/plain": [
       "<matplotlib.collections.PathCollection at 0x2ba01229588>"
      ]
     },
     "execution_count": 25,
     "metadata": {},
     "output_type": "execute_result"
    },
    {
     "data": {
      "image/png": "[encoded data removed]",
      "text/plain": [
       "<Figure size 432x288 with 1 Axes>"
      ]
     },
     "metadata": {
      "needs_background": "light"
     },
     "output_type": "display_data"
    }
   ],
   "source": [
    "plt.scatter(test_y,nn_predictions)"
   ]
  },
  {
   "cell_type": "code",
   "execution_count": null,
   "metadata": {},
   "outputs": [],
   "source": []
  }
 ],
 "metadata": {
  "kernelspec": {
   "display_name": "Python 3",
   "language": "python",
   "name": "python3"
  },
  "language_info": {
   "codemirror_mode": {
    "name": "ipython",
    "version": 3
   },
   "file_extension": ".py",
   "mimetype": "text/x-python",
   "name": "python",
   "nbconvert_exporter": "python",
   "pygments_lexer": "ipython3",
   "version": "3.7.1"
  }
 },
 "nbformat": 4,
 "nbformat_minor": 2
}
