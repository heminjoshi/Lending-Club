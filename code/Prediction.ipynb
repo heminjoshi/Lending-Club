{
 "cells": [
  {
   "cell_type": "code",
   "execution_count": 1,
   "metadata": {},
   "outputs": [],
   "source": [
    "import numpy as np\n",
    "import pandas as pd\n",
    "import seaborn as sb\n",
    "import matplotlib.pyplot as plt   #Data visualisation libraries \n",
    "import sklearn\n",
    "from sklearn.model_selection import cross_val_score\n",
    "# Sci-kit Learn Models\n",
    "from sklearn.linear_model import LinearRegression\n",
    "from sklearn.ensemble import RandomForestRegressor\n",
    "from sklearn.neural_network import MLPRegressor\n",
    "# Metrics\n",
    "from sklearn.metrics import mean_squared_error\n",
    "from pprint import pprint\n",
    "import copy"
   ]
  },
  {
   "cell_type": "code",
   "execution_count": 2,
   "metadata": {},
   "outputs": [
    {
     "data": {
      "text/html": [
       "<div>\n",
       "<style scoped>\n",
       "    .dataframe tbody tr th:only-of-type {\n",
       "        vertical-align: middle;\n",
       "    }\n",
       "\n",
       "    .dataframe tbody tr th {\n",
       "        vertical-align: top;\n",
       "    }\n",
       "\n",
       "    .dataframe thead th {\n",
       "        text-align: right;\n",
       "    }\n",
       "</style>\n",
       "<table border=\"1\" class=\"dataframe\">\n",
       "  <thead>\n",
       "    <tr style=\"text-align: right;\">\n",
       "      <th></th>\n",
       "      <th>Unnamed: 0</th>\n",
       "      <th>loan_amnt</th>\n",
       "      <th>funded_amnt</th>\n",
       "      <th>funded_amnt_inv</th>\n",
       "      <th>term</th>\n",
       "      <th>int_rate</th>\n",
       "      <th>installment</th>\n",
       "      <th>grade</th>\n",
       "      <th>sub_grade</th>\n",
       "      <th>home_ownership</th>\n",
       "      <th>...</th>\n",
       "      <th>recoveries</th>\n",
       "      <th>collection_recovery_fee</th>\n",
       "      <th>last_pymnt_amnt</th>\n",
       "      <th>collections_12_mths_ex_med</th>\n",
       "      <th>mths_since_last_major_derog</th>\n",
       "      <th>policy_code</th>\n",
       "      <th>application_type</th>\n",
       "      <th>annual_inc_joint</th>\n",
       "      <th>dti_joint</th>\n",
       "      <th>acc_now_delinq</th>\n",
       "    </tr>\n",
       "  </thead>\n",
       "  <tbody>\n",
       "    <tr>\n",
       "      <th>0</th>\n",
       "      <td>0</td>\n",
       "      <td>5000.0</td>\n",
       "      <td>5000.0</td>\n",
       "      <td>4975.0</td>\n",
       "      <td>1</td>\n",
       "      <td>10.65</td>\n",
       "      <td>162.87</td>\n",
       "      <td>2</td>\n",
       "      <td>7</td>\n",
       "      <td>6</td>\n",
       "      <td>...</td>\n",
       "      <td>0.00</td>\n",
       "      <td>0.00</td>\n",
       "      <td>171.62</td>\n",
       "      <td>0.0</td>\n",
       "      <td>44.104838</td>\n",
       "      <td>1.0</td>\n",
       "      <td>1</td>\n",
       "      <td>109981.011585</td>\n",
       "      <td>18.310118</td>\n",
       "      <td>0.0</td>\n",
       "    </tr>\n",
       "    <tr>\n",
       "      <th>1</th>\n",
       "      <td>1</td>\n",
       "      <td>2500.0</td>\n",
       "      <td>2500.0</td>\n",
       "      <td>2500.0</td>\n",
       "      <td>2</td>\n",
       "      <td>15.27</td>\n",
       "      <td>59.83</td>\n",
       "      <td>3</td>\n",
       "      <td>14</td>\n",
       "      <td>6</td>\n",
       "      <td>...</td>\n",
       "      <td>117.08</td>\n",
       "      <td>1.11</td>\n",
       "      <td>119.66</td>\n",
       "      <td>0.0</td>\n",
       "      <td>44.104838</td>\n",
       "      <td>1.0</td>\n",
       "      <td>1</td>\n",
       "      <td>109981.011585</td>\n",
       "      <td>18.310118</td>\n",
       "      <td>0.0</td>\n",
       "    </tr>\n",
       "    <tr>\n",
       "      <th>2</th>\n",
       "      <td>2</td>\n",
       "      <td>2400.0</td>\n",
       "      <td>2400.0</td>\n",
       "      <td>2400.0</td>\n",
       "      <td>1</td>\n",
       "      <td>15.96</td>\n",
       "      <td>84.33</td>\n",
       "      <td>3</td>\n",
       "      <td>15</td>\n",
       "      <td>6</td>\n",
       "      <td>...</td>\n",
       "      <td>0.00</td>\n",
       "      <td>0.00</td>\n",
       "      <td>649.91</td>\n",
       "      <td>0.0</td>\n",
       "      <td>44.104838</td>\n",
       "      <td>1.0</td>\n",
       "      <td>1</td>\n",
       "      <td>109981.011585</td>\n",
       "      <td>18.310118</td>\n",
       "      <td>0.0</td>\n",
       "    </tr>\n",
       "    <tr>\n",
       "      <th>3</th>\n",
       "      <td>3</td>\n",
       "      <td>10000.0</td>\n",
       "      <td>10000.0</td>\n",
       "      <td>10000.0</td>\n",
       "      <td>1</td>\n",
       "      <td>13.49</td>\n",
       "      <td>339.31</td>\n",
       "      <td>3</td>\n",
       "      <td>11</td>\n",
       "      <td>6</td>\n",
       "      <td>...</td>\n",
       "      <td>0.00</td>\n",
       "      <td>0.00</td>\n",
       "      <td>357.48</td>\n",
       "      <td>0.0</td>\n",
       "      <td>44.104838</td>\n",
       "      <td>1.0</td>\n",
       "      <td>1</td>\n",
       "      <td>109981.011585</td>\n",
       "      <td>18.310118</td>\n",
       "      <td>0.0</td>\n",
       "    </tr>\n",
       "    <tr>\n",
       "      <th>4</th>\n",
       "      <td>4</td>\n",
       "      <td>3000.0</td>\n",
       "      <td>3000.0</td>\n",
       "      <td>3000.0</td>\n",
       "      <td>2</td>\n",
       "      <td>12.69</td>\n",
       "      <td>67.79</td>\n",
       "      <td>2</td>\n",
       "      <td>10</td>\n",
       "      <td>6</td>\n",
       "      <td>...</td>\n",
       "      <td>0.00</td>\n",
       "      <td>0.00</td>\n",
       "      <td>67.79</td>\n",
       "      <td>0.0</td>\n",
       "      <td>44.104838</td>\n",
       "      <td>1.0</td>\n",
       "      <td>1</td>\n",
       "      <td>109981.011585</td>\n",
       "      <td>18.310118</td>\n",
       "      <td>0.0</td>\n",
       "    </tr>\n",
       "  </tbody>\n",
       "</table>\n",
       "<p>5 rows × 42 columns</p>\n",
       "</div>"
      ],
      "text/plain": [
       "   Unnamed: 0  loan_amnt  funded_amnt  funded_amnt_inv  term  int_rate  \\\n",
       "0           0     5000.0       5000.0           4975.0     1     10.65   \n",
       "1           1     2500.0       2500.0           2500.0     2     15.27   \n",
       "2           2     2400.0       2400.0           2400.0     1     15.96   \n",
       "3           3    10000.0      10000.0          10000.0     1     13.49   \n",
       "4           4     3000.0       3000.0           3000.0     2     12.69   \n",
       "\n",
       "   installment  grade  sub_grade  home_ownership       ...        recoveries  \\\n",
       "0       162.87      2          7               6       ...              0.00   \n",
       "1        59.83      3         14               6       ...            117.08   \n",
       "2        84.33      3         15               6       ...              0.00   \n",
       "3       339.31      3         11               6       ...              0.00   \n",
       "4        67.79      2         10               6       ...              0.00   \n",
       "\n",
       "   collection_recovery_fee  last_pymnt_amnt  collections_12_mths_ex_med  \\\n",
       "0                     0.00           171.62                         0.0   \n",
       "1                     1.11           119.66                         0.0   \n",
       "2                     0.00           649.91                         0.0   \n",
       "3                     0.00           357.48                         0.0   \n",
       "4                     0.00            67.79                         0.0   \n",
       "\n",
       "   mths_since_last_major_derog  policy_code  application_type  \\\n",
       "0                    44.104838          1.0                 1   \n",
       "1                    44.104838          1.0                 1   \n",
       "2                    44.104838          1.0                 1   \n",
       "3                    44.104838          1.0                 1   \n",
       "4                    44.104838          1.0                 1   \n",
       "\n",
       "   annual_inc_joint  dti_joint  acc_now_delinq  \n",
       "0     109981.011585  18.310118             0.0  \n",
       "1     109981.011585  18.310118             0.0  \n",
       "2     109981.011585  18.310118             0.0  \n",
       "3     109981.011585  18.310118             0.0  \n",
       "4     109981.011585  18.310118             0.0  \n",
       "\n",
       "[5 rows x 42 columns]"
      ]
     },
     "execution_count": 2,
     "metadata": {},
     "output_type": "execute_result"
    }
   ],
   "source": [
    "loan_df = pd.read_csv('D:\\Academic\\Data Science\\lc_data/cleaned_data.csv')\n",
    "loan_df.head(5)"
   ]
  },
  {
   "cell_type": "code",
   "execution_count": 3,
   "metadata": {},
   "outputs": [],
   "source": [
    "# Labels (y_true of this dataset)\n",
    "y = loan_df.pop(\"int_rate\")"
   ]
  },
  {
   "cell_type": "code",
   "execution_count": 4,
   "metadata": {},
   "outputs": [],
   "source": [
    "train = int(len(loan_df) * 0.60)\n",
    "val = int(len(loan_df) * 0.20)\n",
    "test = int(len(loan_df) * 0.20)"
   ]
  },
  {
   "cell_type": "code",
   "execution_count": 5,
   "metadata": {},
   "outputs": [],
   "source": [
    "def cross_validate(clf, df, test_x, test_y, k = 5) :\n",
    "  # Build the metric dict.\n",
    "  metric = {\"train\":{\"mse\": [], \"score\": []},\n",
    "            \"val\" : {\"mse\": [], \"score\": []},\n",
    "            \"test\" :{\"mse\": [], \"score\": []}};\n",
    "\n",
    "  split = int(len(df) * 0.80)\n",
    "  for i in range(k) :\n",
    "    df = df.sample(frac=1)\n",
    "    y = df[\"label\"]\n",
    "    x = df.loc[:, df.columns != 'label']\n",
    "    train_x, train_y = x[:split],y[:split]\n",
    "    val_x, val_y = x[split:], y[split:]\n",
    "    model = copy.deepcopy(clf)\n",
    "    model.fit(train_x, train_y)  \n",
    "    # Log the Mean Square Error\n",
    "    metric[\"train\"][\"mse\"].append(mean_squared_error(train_y,model.predict(train_x)))\n",
    "    metric[\"val\"][\"mse\"].append(mean_squared_error(val_y,model.predict(val_x)))\n",
    "    metric['test'][\"mse\"].append(mean_squared_error(test_y,model.predict(test_x))) \n",
    "    # Log the Model Score\n",
    "    metric[\"train\"][\"score\"].append(model.score(train_x,train_y))\n",
    "    metric[\"val\"][\"score\"].append(model.score(val_x,val_y))\n",
    "    metric[\"test\"][\"score\"].append(model.score(test_x,test_y))    \n",
    "  return metric\n",
    "  "
   ]
  },
  {
   "cell_type": "code",
   "execution_count": 6,
   "metadata": {},
   "outputs": [],
   "source": [
    "crossValidationSet = copy.deepcopy(loan_df[:train+val]);\n",
    "crossValidationSet[\"label\"] = y[:train+val];"
   ]
  },
  {
   "cell_type": "code",
   "execution_count": 7,
   "metadata": {},
   "outputs": [],
   "source": [
    "train_x,train_y = loan_df[:train], y[:train]\n",
    "val_x, val_y = loan_df[train: train + val], y[train: train + val]\n",
    "test_x, test_y = loan_df[train + test :], y[train + test :]\n",
    "\n",
    "assert len(train_x) == train, \"Training set length does not match expected train length\"\n",
    "assert len(val_x) == val, \"Validation set length does not match expected validation length\"\n",
    "assert len(test_x) >= test , \"Test set length does not match expected test length\""
   ]
  },
  {
   "cell_type": "code",
   "execution_count": 8,
   "metadata": {},
   "outputs": [
    {
     "data": {
      "text/plain": [
       "LinearRegression(copy_X=True, fit_intercept=True, n_jobs=None,\n",
       "         normalize=False)"
      ]
     },
     "execution_count": 8,
     "metadata": {},
     "output_type": "execute_result"
    }
   ],
   "source": [
    "lr = LinearRegression() # Init\n",
    "lr.fit(train_x, train_y) # Train"
   ]
  },
  {
   "cell_type": "markdown",
   "metadata": {},
   "source": [
    "# Linear Regression Score and MSE\n",
    "\n",
    "1. Score (0.0 to 1.0) 1.0 being the highest \n",
    "2. MSE (0.0 to 1.0) 0.0 being the best"
   ]
  },
  {
   "cell_type": "code",
   "execution_count": 9,
   "metadata": {},
   "outputs": [
    {
     "name": "stdout",
     "output_type": "stream",
     "text": [
      "Training Set Score Linear Regression: 0.9602038090793331\n",
      "Validation Set Score Linear Regression: 0.9837360795034014\n",
      "Test Set Score Linear Regression: 0.9870914423635125\n",
      "Training Set MSE Linear Regression: 0.7588524105425732\n",
      "Validation Set MSE Linear Regression: 0.30090928582755705\n",
      "Test Set MSE Linear Regression: 0.24695311566090825\n"
     ]
    }
   ],
   "source": [
    "# MSE on training set\n",
    "print(\"Training Set Score Linear Regression:\", lr.score(train_x,train_y))\n",
    "\n",
    "# MSE on validation set\n",
    "print(\"Validation Set Score Linear Regression:\", lr.score(val_x, val_y))\n",
    "\n",
    "# MSE on test set\n",
    "print(\"Test Set Score Linear Regression:\", lr.score(test_x, test_y))\n",
    "\n",
    "# MSE on training set\n",
    "print(\"Training Set MSE Linear Regression:\", mean_squared_error(train_y, lr.predict(train_x)))\n",
    "\n",
    "# MSE on validation set\n",
    "print(\"Validation Set MSE Linear Regression:\", mean_squared_error(val_y, lr.predict(val_x)))\n",
    "\n",
    "# MSE on test set\n",
    "print(\"Test Set MSE Linear Regression:\", mean_squared_error(test_y, lr.predict(test_x)))"
   ]
  },
  {
   "cell_type": "markdown",
   "metadata": {},
   "source": [
    "# 5 Fold Cross Validation"
   ]
  },
  {
   "cell_type": "code",
   "execution_count": 10,
   "metadata": {},
   "outputs": [
    {
     "name": "stdout",
     "output_type": "stream",
     "text": [
      "{'test': {'mse': [0.1698567119444454,\n",
      "                  0.17082728702370795,\n",
      "                  0.17063510545766286,\n",
      "                  0.16986077615484588,\n",
      "                  0.17134910659779698],\n",
      "          'score': [0.9911213707500262,\n",
      "                    0.9910706375397256,\n",
      "                    0.9910806831178723,\n",
      "                    0.9911211583085104,\n",
      "                    0.9910433613580505]},\n",
      " 'train': {'mse': [0.6194608292323628,\n",
      "                   0.6196941758562468,\n",
      "                   0.619809008521607,\n",
      "                   0.6209701578783066,\n",
      "                   0.6213468797950916],\n",
      "           'score': [0.9676921211884078,\n",
      "                     0.9676968768471877,\n",
      "                     0.9676863990396259,\n",
      "                     0.9675973326016657,\n",
      "                     0.9675976473079582]},\n",
      " 'val': {'mse': [0.6284896166183594,\n",
      "                 0.6346341173052077,\n",
      "                 0.6271540632570671,\n",
      "                 0.6224716891598275,\n",
      "                 0.6279408982302397],\n",
      "         'score': [0.9671308558817954,\n",
      "                   0.9667390346055504,\n",
      "                   0.9671499204803159,\n",
      "                   0.9675101431105833,\n",
      "                   0.9671437208222423]}}\n"
     ]
    }
   ],
   "source": [
    "lr_cv = LinearRegression()\n",
    "cv_result = cross_validate(lr_cv, crossValidationSet, test_x, test_y)\n",
    "pprint(cv_result)"
   ]
  },
  {
   "cell_type": "code",
   "execution_count": 13,
   "metadata": {},
   "outputs": [],
   "source": [
    "lr_predictions = lr.predict(test_x)"
   ]
  },
  {
   "cell_type": "code",
   "execution_count": 14,
   "metadata": {},
   "outputs": [
    {
     "data": {
      "text/plain": [
       "<matplotlib.collections.PathCollection at 0x27b0005fbe0>"
      ]
     },
     "execution_count": 14,
     "metadata": {},
     "output_type": "execute_result"
    },
    {
     "data": {
      "image/png": "[encoded data removed]",
      "text/plain": [
       "<Figure size 432x288 with 1 Axes>"
      ]
     },
     "metadata": {
      "needs_background": "light"
     },
     "output_type": "display_data"
    }
   ],
   "source": [
    "plt.scatter(test_y,lr_predictions)"
   ]
  },
  {
   "cell_type": "code",
   "execution_count": null,
   "metadata": {},
   "outputs": [],
   "source": []
  }
 ],
 "metadata": {
  "kernelspec": {
   "display_name": "Python 3",
   "language": "python",
   "name": "python3"
  },
  "language_info": {
   "codemirror_mode": {
    "name": "ipython",
    "version": 3
   },
   "file_extension": ".py",
   "mimetype": "text/x-python",
   "name": "python",
   "nbconvert_exporter": "python",
   "pygments_lexer": "ipython3",
   "version": "3.7.1"
  }
 },
 "nbformat": 4,
 "nbformat_minor": 2
}
