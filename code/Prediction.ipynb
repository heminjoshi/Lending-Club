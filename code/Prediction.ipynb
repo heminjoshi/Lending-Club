{
 "cells": [
  {
   "cell_type": "code",
   "execution_count": 1,
   "metadata": {},
   "outputs": [],
   "source": [
    "import numpy as np\n",
    "import pandas as pd\n",
    "import seaborn as sb\n",
    "import matplotlib.pyplot as plt   #Data visualisation libraries \n",
    "import sklearn\n",
    "from sklearn.model_selection import cross_val_score\n",
    "# Sci-kit Learn Models\n",
    "from sklearn.linear_model import LinearRegression\n",
    "from sklearn.ensemble import RandomForestRegressor\n",
    "from sklearn.neural_network import MLPRegressor\n",
    "# Metrics\n",
    "from sklearn.metrics import mean_squared_error\n",
    "from pprint import pprint\n",
    "import copy\n",
    "from sklearn.model_selection import ParameterGrid"
   ]
  },
  {
   "cell_type": "code",
   "execution_count": 2,
   "metadata": {},
   "outputs": [
    {
     "data": {
      "text/html": [
       "<div>\n",
       "<style scoped>\n",
       "    .dataframe tbody tr th:only-of-type {\n",
       "        vertical-align: middle;\n",
       "    }\n",
       "\n",
       "    .dataframe tbody tr th {\n",
       "        vertical-align: top;\n",
       "    }\n",
       "\n",
       "    .dataframe thead th {\n",
       "        text-align: right;\n",
       "    }\n",
       "</style>\n",
       "<table border=\"1\" class=\"dataframe\">\n",
       "  <thead>\n",
       "    <tr style=\"text-align: right;\">\n",
       "      <th></th>\n",
       "      <th>Unnamed: 0</th>\n",
       "      <th>loan_amnt</th>\n",
       "      <th>funded_amnt</th>\n",
       "      <th>funded_amnt_inv</th>\n",
       "      <th>term</th>\n",
       "      <th>int_rate</th>\n",
       "      <th>installment</th>\n",
       "      <th>grade</th>\n",
       "      <th>sub_grade</th>\n",
       "      <th>home_ownership</th>\n",
       "      <th>...</th>\n",
       "      <th>recoveries</th>\n",
       "      <th>collection_recovery_fee</th>\n",
       "      <th>last_pymnt_amnt</th>\n",
       "      <th>collections_12_mths_ex_med</th>\n",
       "      <th>mths_since_last_major_derog</th>\n",
       "      <th>policy_code</th>\n",
       "      <th>application_type</th>\n",
       "      <th>annual_inc_joint</th>\n",
       "      <th>dti_joint</th>\n",
       "      <th>acc_now_delinq</th>\n",
       "    </tr>\n",
       "  </thead>\n",
       "  <tbody>\n",
       "    <tr>\n",
       "      <th>0</th>\n",
       "      <td>0</td>\n",
       "      <td>5000.0</td>\n",
       "      <td>5000.0</td>\n",
       "      <td>4975.0</td>\n",
       "      <td>1</td>\n",
       "      <td>10.65</td>\n",
       "      <td>162.87</td>\n",
       "      <td>2</td>\n",
       "      <td>7</td>\n",
       "      <td>6</td>\n",
       "      <td>...</td>\n",
       "      <td>0.00</td>\n",
       "      <td>0.00</td>\n",
       "      <td>171.62</td>\n",
       "      <td>0.0</td>\n",
       "      <td>44.104838</td>\n",
       "      <td>1.0</td>\n",
       "      <td>1</td>\n",
       "      <td>109981.011585</td>\n",
       "      <td>18.310118</td>\n",
       "      <td>0.0</td>\n",
       "    </tr>\n",
       "    <tr>\n",
       "      <th>1</th>\n",
       "      <td>1</td>\n",
       "      <td>2500.0</td>\n",
       "      <td>2500.0</td>\n",
       "      <td>2500.0</td>\n",
       "      <td>2</td>\n",
       "      <td>15.27</td>\n",
       "      <td>59.83</td>\n",
       "      <td>3</td>\n",
       "      <td>14</td>\n",
       "      <td>6</td>\n",
       "      <td>...</td>\n",
       "      <td>117.08</td>\n",
       "      <td>1.11</td>\n",
       "      <td>119.66</td>\n",
       "      <td>0.0</td>\n",
       "      <td>44.104838</td>\n",
       "      <td>1.0</td>\n",
       "      <td>1</td>\n",
       "      <td>109981.011585</td>\n",
       "      <td>18.310118</td>\n",
       "      <td>0.0</td>\n",
       "    </tr>\n",
       "    <tr>\n",
       "      <th>2</th>\n",
       "      <td>2</td>\n",
       "      <td>2400.0</td>\n",
       "      <td>2400.0</td>\n",
       "      <td>2400.0</td>\n",
       "      <td>1</td>\n",
       "      <td>15.96</td>\n",
       "      <td>84.33</td>\n",
       "      <td>3</td>\n",
       "      <td>15</td>\n",
       "      <td>6</td>\n",
       "      <td>...</td>\n",
       "      <td>0.00</td>\n",
       "      <td>0.00</td>\n",
       "      <td>649.91</td>\n",
       "      <td>0.0</td>\n",
       "      <td>44.104838</td>\n",
       "      <td>1.0</td>\n",
       "      <td>1</td>\n",
       "      <td>109981.011585</td>\n",
       "      <td>18.310118</td>\n",
       "      <td>0.0</td>\n",
       "    </tr>\n",
       "    <tr>\n",
       "      <th>3</th>\n",
       "      <td>3</td>\n",
       "      <td>10000.0</td>\n",
       "      <td>10000.0</td>\n",
       "      <td>10000.0</td>\n",
       "      <td>1</td>\n",
       "      <td>13.49</td>\n",
       "      <td>339.31</td>\n",
       "      <td>3</td>\n",
       "      <td>11</td>\n",
       "      <td>6</td>\n",
       "      <td>...</td>\n",
       "      <td>0.00</td>\n",
       "      <td>0.00</td>\n",
       "      <td>357.48</td>\n",
       "      <td>0.0</td>\n",
       "      <td>44.104838</td>\n",
       "      <td>1.0</td>\n",
       "      <td>1</td>\n",
       "      <td>109981.011585</td>\n",
       "      <td>18.310118</td>\n",
       "      <td>0.0</td>\n",
       "    </tr>\n",
       "    <tr>\n",
       "      <th>4</th>\n",
       "      <td>4</td>\n",
       "      <td>3000.0</td>\n",
       "      <td>3000.0</td>\n",
       "      <td>3000.0</td>\n",
       "      <td>2</td>\n",
       "      <td>12.69</td>\n",
       "      <td>67.79</td>\n",
       "      <td>2</td>\n",
       "      <td>10</td>\n",
       "      <td>6</td>\n",
       "      <td>...</td>\n",
       "      <td>0.00</td>\n",
       "      <td>0.00</td>\n",
       "      <td>67.79</td>\n",
       "      <td>0.0</td>\n",
       "      <td>44.104838</td>\n",
       "      <td>1.0</td>\n",
       "      <td>1</td>\n",
       "      <td>109981.011585</td>\n",
       "      <td>18.310118</td>\n",
       "      <td>0.0</td>\n",
       "    </tr>\n",
       "  </tbody>\n",
       "</table>\n",
       "<p>5 rows × 42 columns</p>\n",
       "</div>"
      ],
      "text/plain": [
       "   Unnamed: 0  loan_amnt  funded_amnt  funded_amnt_inv  term  int_rate  \\\n",
       "0           0     5000.0       5000.0           4975.0     1     10.65   \n",
       "1           1     2500.0       2500.0           2500.0     2     15.27   \n",
       "2           2     2400.0       2400.0           2400.0     1     15.96   \n",
       "3           3    10000.0      10000.0          10000.0     1     13.49   \n",
       "4           4     3000.0       3000.0           3000.0     2     12.69   \n",
       "\n",
       "   installment  grade  sub_grade  home_ownership       ...        recoveries  \\\n",
       "0       162.87      2          7               6       ...              0.00   \n",
       "1        59.83      3         14               6       ...            117.08   \n",
       "2        84.33      3         15               6       ...              0.00   \n",
       "3       339.31      3         11               6       ...              0.00   \n",
       "4        67.79      2         10               6       ...              0.00   \n",
       "\n",
       "   collection_recovery_fee  last_pymnt_amnt  collections_12_mths_ex_med  \\\n",
       "0                     0.00           171.62                         0.0   \n",
       "1                     1.11           119.66                         0.0   \n",
       "2                     0.00           649.91                         0.0   \n",
       "3                     0.00           357.48                         0.0   \n",
       "4                     0.00            67.79                         0.0   \n",
       "\n",
       "   mths_since_last_major_derog  policy_code  application_type  \\\n",
       "0                    44.104838          1.0                 1   \n",
       "1                    44.104838          1.0                 1   \n",
       "2                    44.104838          1.0                 1   \n",
       "3                    44.104838          1.0                 1   \n",
       "4                    44.104838          1.0                 1   \n",
       "\n",
       "   annual_inc_joint  dti_joint  acc_now_delinq  \n",
       "0     109981.011585  18.310118             0.0  \n",
       "1     109981.011585  18.310118             0.0  \n",
       "2     109981.011585  18.310118             0.0  \n",
       "3     109981.011585  18.310118             0.0  \n",
       "4     109981.011585  18.310118             0.0  \n",
       "\n",
       "[5 rows x 42 columns]"
      ]
     },
     "execution_count": 2,
     "metadata": {},
     "output_type": "execute_result"
    }
   ],
   "source": [
    "loan_df = pd.read_csv('D:\\Academic\\Data Science\\lc_data/cleaned_data.csv')\n",
    "loan_df.head(5)"
   ]
  },
  {
   "cell_type": "code",
   "execution_count": 3,
   "metadata": {},
   "outputs": [],
   "source": [
    "# Labels (y_true of this dataset)\n",
    "y = loan_df.pop(\"int_rate\")"
   ]
  },
  {
   "cell_type": "code",
   "execution_count": 4,
   "metadata": {},
   "outputs": [],
   "source": [
    "train = int(len(loan_df) * 0.60)\n",
    "val = int(len(loan_df) * 0.20)\n",
    "test = int(len(loan_df) * 0.20)"
   ]
  },
  {
   "cell_type": "code",
   "execution_count": 5,
   "metadata": {},
   "outputs": [],
   "source": [
    "def cross_validate(clf, df, test_x, test_y, k = 5) :\n",
    "  # Build the metric dict.\n",
    "  metric = {\"train\":{\"mse\": [], \"score\": []},\n",
    "            \"val\" : {\"mse\": [], \"score\": []},\n",
    "            \"test\" :{\"mse\": [], \"score\": []}};\n",
    "\n",
    "  split = int(len(df) * 0.80)\n",
    "  for i in range(k) :\n",
    "    df = df.sample(frac=1)\n",
    "    y = df[\"label\"]\n",
    "    x = df.loc[:, df.columns != 'label']\n",
    "    train_x, train_y = x[:split],y[:split]\n",
    "    val_x, val_y = x[split:], y[split:]\n",
    "    model = copy.deepcopy(clf)\n",
    "    model.fit(train_x, train_y)  \n",
    "    # Log the Mean Square Error\n",
    "    metric[\"train\"][\"mse\"].append(mean_squared_error(train_y,model.predict(train_x)))\n",
    "    metric[\"val\"][\"mse\"].append(mean_squared_error(val_y,model.predict(val_x)))\n",
    "    metric['test'][\"mse\"].append(mean_squared_error(test_y,model.predict(test_x))) \n",
    "    # Log the Model Score\n",
    "    metric[\"train\"][\"score\"].append(model.score(train_x,train_y))\n",
    "    metric[\"val\"][\"score\"].append(model.score(val_x,val_y))\n",
    "    metric[\"test\"][\"score\"].append(model.score(test_x,test_y))    \n",
    "  return metric\n",
    "  "
   ]
  },
  {
   "cell_type": "code",
   "execution_count": 6,
   "metadata": {},
   "outputs": [],
   "source": [
    "crossValidationSet = copy.deepcopy(loan_df[:train+val]);\n",
    "crossValidationSet[\"label\"] = y[:train+val];"
   ]
  },
  {
   "cell_type": "code",
   "execution_count": 7,
   "metadata": {},
   "outputs": [],
   "source": [
    "def mape(y_true, y_pred): \n",
    "    y_true, y_pred = np.array(y_true), np.array(y_pred)\n",
    "    return np.mean(np.abs((y_true - y_pred) / y_true)) * 100"
   ]
  },
  {
   "cell_type": "code",
   "execution_count": 8,
   "metadata": {},
   "outputs": [],
   "source": [
    "train_x,train_y = loan_df[:train], y[:train]\n",
    "val_x, val_y = loan_df[train: train + val], y[train: train + val]\n",
    "test_x, test_y = loan_df[train + test :], y[train + test :]\n",
    "\n",
    "assert len(train_x) == train, \"Training set length does not match expected train length\"\n",
    "assert len(val_x) == val, \"Validation set length does not match expected validation length\"\n",
    "assert len(test_x) >= test , \"Test set length does not match expected test length\""
   ]
  },
  {
   "cell_type": "code",
   "execution_count": 9,
   "metadata": {},
   "outputs": [
    {
     "data": {
      "text/plain": [
       "LinearRegression(copy_X=True, fit_intercept=True, n_jobs=None,\n",
       "         normalize=False)"
      ]
     },
     "execution_count": 9,
     "metadata": {},
     "output_type": "execute_result"
    }
   ],
   "source": [
    "lr = LinearRegression() # Init\n",
    "lr.fit(train_x, train_y) # Train"
   ]
  },
  {
   "cell_type": "markdown",
   "metadata": {},
   "source": [
    "# Linear Regression Score and MSE\n",
    "\n",
    "1. Score (0.0 to 1.0) 1.0 being the highest \n",
    "2. MSE (0.0 to 1.0) 0.0 being the best"
   ]
  },
  {
   "cell_type": "code",
   "execution_count": 10,
   "metadata": {},
   "outputs": [
    {
     "name": "stdout",
     "output_type": "stream",
     "text": [
      "********************MSE********************\n",
      "Training Set Score Linear Regression: 0.9602038090793331\n",
      "Validation Set Score Linear Regression: 0.9837360795034014\n",
      "Test Set Score Linear Regression: 0.9870914423635125\n",
      "Training Set MSE Linear Regression: 0.7588524105425732\n",
      "Validation Set MSE Linear Regression: 0.30090928582755705\n",
      "Test Set MSE Linear Regression: 0.24695311566090825\n",
      "********************MAPE********************\n",
      "Training Set Score Linear Regression: 0.9602038090793331\n",
      "Validation Set Score Linear Regression: 0.9837360795034014\n",
      "Test Set Score Linear Regression: 0.9870914423635125\n",
      "Training Set MAPE Linear Regression: 4.992220117102113\n",
      "Validation Set MAPE Linear Regression: 4.130548073703696\n",
      "Test Set MAPE Linear Regression: 3.564994794289469\n"
     ]
    }
   ],
   "source": [
    "print(\"********************MSE********************\")\n",
    "# MSE on training set\n",
    "print(\"Training Set Score Linear Regression:\", lr.score(train_x,train_y))\n",
    "\n",
    "# MSE on validation set\n",
    "print(\"Validation Set Score Linear Regression:\", lr.score(val_x, val_y))\n",
    "\n",
    "# MSE on test set\n",
    "print(\"Test Set Score Linear Regression:\", lr.score(test_x, test_y))\n",
    "\n",
    "# MSE on training set\n",
    "print(\"Training Set MSE Linear Regression:\", mean_squared_error(train_y, lr.predict(train_x)))\n",
    "\n",
    "# MSE on validation set\n",
    "print(\"Validation Set MSE Linear Regression:\", mean_squared_error(val_y, lr.predict(val_x)))\n",
    "\n",
    "# MSE on test set\n",
    "print(\"Test Set MSE Linear Regression:\", mean_squared_error(test_y, lr.predict(test_x)))\n",
    "\n",
    "print(\"********************MAPE********************\")\n",
    "# MSE on training set\n",
    "print(\"Training Set Score Linear Regression:\", lr.score(train_x,train_y))\n",
    "\n",
    "# MSE on validation set\n",
    "print(\"Validation Set Score Linear Regression:\", lr.score(val_x, val_y))\n",
    "\n",
    "# MAPE on test set\n",
    "print(\"Test Set Score Linear Regression:\", lr.score(test_x, test_y))\n",
    "\n",
    "# MAPE on training set\n",
    "print(\"Training Set MAPE Linear Regression:\", mape(train_y, lr.predict(train_x)))\n",
    "\n",
    "# MAPE on validation set\n",
    "print(\"Validation Set MAPE Linear Regression:\", mape(val_y, lr.predict(val_x)))\n",
    "\n",
    "# MAPE on test set\n",
    "print(\"Test Set MAPE Linear Regression:\", mape(test_y, lr.predict(test_x)))"
   ]
  },
  {
   "cell_type": "markdown",
   "metadata": {},
   "source": [
    "# 5 Fold Cross Validation"
   ]
  },
  {
   "cell_type": "code",
   "execution_count": 11,
   "metadata": {},
   "outputs": [
    {
     "name": "stdout",
     "output_type": "stream",
     "text": [
      "{'test': {'mse': [0.1703232536035447,\n",
      "                  0.17046367964964962,\n",
      "                  0.1698525008477147,\n",
      "                  0.17089360139719637,\n",
      "                  0.1696515549208081],\n",
      "          'score': [0.9910969840162116,\n",
      "                    0.9910896437657961,\n",
      "                    0.9911215908694796,\n",
      "                    0.9910671712019553,\n",
      "                    0.9911320945720644]},\n",
      " 'train': {'mse': [0.6229001057001485,\n",
      "                   0.6248217404436613,\n",
      "                   0.6217433484529971,\n",
      "                   0.6213665493867437,\n",
      "                   0.6216241563930045],\n",
      "           'score': [0.9675312202637517,\n",
      "                     0.967413118630985,\n",
      "                     0.9675353485811216,\n",
      "                     0.9676290143161815,\n",
      "                     0.9675639253669078]},\n",
      " 'val': {'mse': [0.6149233401042999,\n",
      "                 0.607021675144218,\n",
      "                 0.6196077868265296,\n",
      "                 0.6208411025167271,\n",
      "                 0.6199542263075458],\n",
      "         'score': [0.9677665633354087,\n",
      "                   0.9682511288578605,\n",
      "                   0.9677454874163931,\n",
      "                   0.9673841694055403,\n",
      "                   0.9676387256960379]}}\n"
     ]
    }
   ],
   "source": [
    "lr_cv = LinearRegression()\n",
    "cv_result = cross_validate(lr_cv, crossValidationSet, test_x, test_y)\n",
    "pprint(cv_result)"
   ]
  },
  {
   "cell_type": "code",
   "execution_count": 12,
   "metadata": {},
   "outputs": [],
   "source": [
    "lr_predictions = lr.predict(test_x)"
   ]
  },
  {
   "cell_type": "code",
   "execution_count": 13,
   "metadata": {},
   "outputs": [
    {
     "data": {
      "text/plain": [
       "<matplotlib.collections.PathCollection at 0x1d5e3a79320>"
      ]
     },
     "execution_count": 13,
     "metadata": {},
     "output_type": "execute_result"
    },
    {
     "data": {
      "image/png": "[encoded data removed]",
      "text/plain": [
       "<Figure size 432x288 with 1 Axes>"
      ]
     },
     "metadata": {
      "needs_background": "light"
     },
     "output_type": "display_data"
    }
   ],
   "source": [
    "plt.scatter(test_y,lr_predictions)"
   ]
  },
  {
   "cell_type": "markdown",
   "metadata": {},
   "source": [
    "# Grid Search for Hyperparameter Tuning"
   ]
  },
  {
   "cell_type": "code",
   "execution_count": 14,
   "metadata": {},
   "outputs": [],
   "source": [
    "# Linear Regression Params\n",
    "fit_intercept : bool\n",
    "normalize : bool\n",
    "params = {\"fit_intercept\":[True, False], \"normalize\" : [True, False]}\n",
    "grid = list(ParameterGrid(params))\n",
    "result = [] # This result will contain the results for 5 cross validations per param combination created by ParameterGrid\n",
    "for param in grid :\n",
    "  result.append(cross_validate(LinearRegression(param),crossValidationSet, test_x, test_y))\n",
    "  "
   ]
  },
  {
   "cell_type": "code",
   "execution_count": 17,
   "metadata": {},
   "outputs": [
    {
     "name": "stdout",
     "output_type": "stream",
     "text": [
      "Result of {'fit_intercept': True, 'normalize': True} hyper parameters is\n",
      "{'test': {'mse': [0.16976603557287787,\n",
      "                  0.169870484422429,\n",
      "                  0.16957069350598564,\n",
      "                  0.1696824667083474,\n",
      "                  0.17035813692729998],\n",
      "          'score': [0.9911261105208345,\n",
      "                    0.9911206508448516,\n",
      "                    0.9911363213024339,\n",
      "                    0.9911304787730897,\n",
      "                    0.9910951606199201]},\n",
      " 'train': {'mse': [0.6207052954608467,\n",
      "                   0.6206053075693178,\n",
      "                   0.6221273120106336,\n",
      "                   0.620317683305411,\n",
      "                   0.6226478731418098],\n",
      "           'score': [0.9676178315860314,\n",
      "                     0.9676005130245839,\n",
      "                     0.967518964652869,\n",
      "                     0.9676155750542946,\n",
      "                     0.96753285509814]},\n",
      " 'val': {'mse': [0.6235500804897371,\n",
      "                 0.6238960043488867,\n",
      "                 0.6178445433691611,\n",
      "                 0.6251267716392047,\n",
      "                 0.6158191399945746],\n",
      "         'score': [0.967427051590689,\n",
      "                   0.9674978659433715,\n",
      "                   0.9678225042301,\n",
      "                   0.9674351342543902,\n",
      "                   0.9677655122914846]}}\n"
     ]
    }
   ],
   "source": [
    "print(\"Result of\" , grid[0] , \"hyper parameters is\")\n",
    "pprint(result[0])"
   ]
  },
  {
   "cell_type": "markdown",
   "metadata": {},
   "source": [
    "\n",
    "# Random Forest"
   ]
  },
  {
   "cell_type": "code",
   "execution_count": 18,
   "metadata": {},
   "outputs": [
    {
     "name": "stderr",
     "output_type": "stream",
     "text": [
      "C:\\ProgramData\\Anaconda3\\lib\\site-packages\\sklearn\\ensemble\\forest.py:246: FutureWarning: The default value of n_estimators will change from 10 in version 0.20 to 100 in 0.22.\n",
      "  \"10 in version 0.20 to 100 in 0.22.\", FutureWarning)\n"
     ]
    },
    {
     "data": {
      "text/plain": [
       "RandomForestRegressor(bootstrap=True, criterion='mse', max_depth=None,\n",
       "           max_features='auto', max_leaf_nodes=None,\n",
       "           min_impurity_decrease=0.0, min_impurity_split=None,\n",
       "           min_samples_leaf=1, min_samples_split=2,\n",
       "           min_weight_fraction_leaf=0.0, n_estimators=10, n_jobs=None,\n",
       "           oob_score=False, random_state=None, verbose=0, warm_start=False)"
      ]
     },
     "execution_count": 18,
     "metadata": {},
     "output_type": "execute_result"
    }
   ],
   "source": [
    "rf = RandomForestRegressor() # Init\n",
    "rf.fit(train_x, train_y) # Train"
   ]
  },
  {
   "cell_type": "markdown",
   "metadata": {},
   "source": [
    "# Random Forest Regressor Score and MSE\n",
    "1. Score (0.0 to 1.0) 1.0 being the highest \n",
    "2. MSE (0.0 to 1.0) 0.0 being the best"
   ]
  },
  {
   "cell_type": "code",
   "execution_count": 19,
   "metadata": {},
   "outputs": [
    {
     "name": "stdout",
     "output_type": "stream",
     "text": [
      "********************MSE********************\n",
      "Training Set Score Random Forest  : 0.9997448995077337\n",
      "Validation Set Score Random Forest  : 0.9987821808041487\n",
      "Test Set Score Random Forest  : 0.9937146954228547\n",
      "Training Set MSE Random Forest : 0.00486437568542123\n",
      "Validation Set MSE Random Forest : 0.022531658622368018\n",
      "Test Set MSE Random Forest : 0.12024391817536677\n",
      "********************MAPE********************\n",
      "Training Set Score Random Forest  : 0.9997448995077337\n",
      "Validation Set Score Random Forest  : 0.9987821808041487\n",
      "Test Set Score Random Forest  : 0.9937146954228547\n",
      "Training Set MAPE Random Forest : 0.02228875416641345\n",
      "Validation Set MAPE Random Forest : 0.536806422933755\n",
      "Test Set MAPE Random Forest : 1.7663092875014659\n"
     ]
    }
   ],
   "source": [
    "print(\"********************MSE********************\")\n",
    "# MSE on training set\n",
    "print(\"Training Set Score Random Forest  :\", rf.score(train_x,train_y))\n",
    "\n",
    "# MSE on validation set\n",
    "print(\"Validation Set Score Random Forest  :\", rf.score(val_x, val_y))\n",
    "\n",
    "# MSE on test set\n",
    "print(\"Test Set Score Random Forest  :\", rf.score(test_x, test_y))\n",
    "\n",
    "# MSE on training set\n",
    "print(\"Training Set MSE Random Forest :\", mean_squared_error(train_y, rf.predict(train_x)))\n",
    "\n",
    "# MSE on validation set\n",
    "print(\"Validation Set MSE Random Forest :\", mean_squared_error(val_y, rf.predict(val_x)))\n",
    "\n",
    "# MSE on test set\n",
    "print(\"Test Set MSE Random Forest :\", mean_squared_error(test_y, rf.predict(test_x)))\n",
    "\n",
    "print(\"********************MAPE********************\")\n",
    "# MAPE on training set\n",
    "print(\"Training Set Score Random Forest  :\", rf.score(train_x,train_y))\n",
    "\n",
    "# MAPE on validation set\n",
    "print(\"Validation Set Score Random Forest  :\", rf.score(val_x, val_y))\n",
    "\n",
    "# MAPE on test set\n",
    "print(\"Test Set Score Random Forest  :\", rf.score(test_x, test_y))\n",
    "\n",
    "# MAPE on training set\n",
    "print(\"Training Set MAPE Random Forest :\", mape(train_y, rf.predict(train_x)))\n",
    "\n",
    "# MAPE on validation set\n",
    "print(\"Validation Set MAPE Random Forest :\", mape(val_y, rf.predict(val_x)))\n",
    "\n",
    "# MAPE on test set\n",
    "print(\"Test Set MAPE Random Forest :\", mape(test_y, rf.predict(test_x)))"
   ]
  },
  {
   "cell_type": "markdown",
   "metadata": {},
   "source": [
    "# 5 Fold Cross Validation"
   ]
  },
  {
   "cell_type": "code",
   "execution_count": 20,
   "metadata": {},
   "outputs": [
    {
     "name": "stderr",
     "output_type": "stream",
     "text": [
      "C:\\ProgramData\\Anaconda3\\lib\\site-packages\\sklearn\\ensemble\\forest.py:246: FutureWarning: The default value of n_estimators will change from 10 in version 0.20 to 100 in 0.22.\n",
      "  \"10 in version 0.20 to 100 in 0.22.\", FutureWarning)\n",
      "C:\\ProgramData\\Anaconda3\\lib\\site-packages\\sklearn\\ensemble\\forest.py:246: FutureWarning: The default value of n_estimators will change from 10 in version 0.20 to 100 in 0.22.\n",
      "  \"10 in version 0.20 to 100 in 0.22.\", FutureWarning)\n",
      "C:\\ProgramData\\Anaconda3\\lib\\site-packages\\sklearn\\ensemble\\forest.py:246: FutureWarning: The default value of n_estimators will change from 10 in version 0.20 to 100 in 0.22.\n",
      "  \"10 in version 0.20 to 100 in 0.22.\", FutureWarning)\n",
      "C:\\ProgramData\\Anaconda3\\lib\\site-packages\\sklearn\\ensemble\\forest.py:246: FutureWarning: The default value of n_estimators will change from 10 in version 0.20 to 100 in 0.22.\n",
      "  \"10 in version 0.20 to 100 in 0.22.\", FutureWarning)\n",
      "C:\\ProgramData\\Anaconda3\\lib\\site-packages\\sklearn\\ensemble\\forest.py:246: FutureWarning: The default value of n_estimators will change from 10 in version 0.20 to 100 in 0.22.\n",
      "  \"10 in version 0.20 to 100 in 0.22.\", FutureWarning)\n"
     ]
    },
    {
     "name": "stdout",
     "output_type": "stream",
     "text": [
      "{'test': {'mse': [0.11144637842723308,\n",
      "                  0.09936608587692877,\n",
      "                  0.09639979851822487,\n",
      "                  0.09443887881860664,\n",
      "                  0.10274483964944656],\n",
      "          'score': [0.9941745541640338,\n",
      "                    0.9948060066250967,\n",
      "                    0.99496105828838,\n",
      "                    0.9950635580883735,\n",
      "                    0.9946293948107637]},\n",
      " 'train': {'mse': [0.004044248516238206,\n",
      "                   0.003672450847913595,\n",
      "                   0.004131874102608316,\n",
      "                   0.0036664825283974477,\n",
      "                   0.00387870753309919],\n",
      "           'score': [0.999788820950977,\n",
      "                     0.9998085343996217,\n",
      "                     0.9997841775894207,\n",
      "                     0.9998085181741808,\n",
      "                     0.9997977549429916]},\n",
      " 'val': {'mse': [0.02112238334074786,\n",
      "                 0.029430976849076532,\n",
      "                 0.02059362601899399,\n",
      "                 0.023983425323121785,\n",
      "                 0.024260080270859633],\n",
      "         'score': [0.9989005880425212,\n",
      "                   0.9984585083500502,\n",
      "                   0.9989294515607032,\n",
      "                   0.9987524157045444,\n",
      "                   0.998730012315708]}}\n"
     ]
    }
   ],
   "source": [
    "rf_cv_result = cross_validate(RandomForestRegressor(), crossValidationSet, test_x, test_y)\n",
    "pprint(rf_cv_result)"
   ]
  },
  {
   "cell_type": "code",
   "execution_count": 21,
   "metadata": {},
   "outputs": [],
   "source": [
    "rf_predictions = rf.predict(test_x)"
   ]
  },
  {
   "cell_type": "code",
   "execution_count": 22,
   "metadata": {},
   "outputs": [
    {
     "data": {
      "text/plain": [
       "<matplotlib.collections.PathCollection at 0x1d580c544e0>"
      ]
     },
     "execution_count": 22,
     "metadata": {},
     "output_type": "execute_result"
    },
    {
     "data": {
      "image/png": "[encoded data removed]",
      "text/plain": [
       "<Figure size 432x288 with 1 Axes>"
      ]
     },
     "metadata": {
      "needs_background": "light"
     },
     "output_type": "display_data"
    }
   ],
   "source": [
    "plt.scatter(test_y,rf_predictions)"
   ]
  },
  {
   "cell_type": "markdown",
   "metadata": {},
   "source": [
    "# Grid Search for Hyperparameter Tuning"
   ]
  },
  {
   "cell_type": "code",
   "execution_count": 23,
   "metadata": {},
   "outputs": [
    {
     "name": "stdout",
     "output_type": "stream",
     "text": [
      "{'max_depth': 1, 'n_estimators': 1}\n",
      "{'max_depth': 1, 'n_estimators': 10}\n",
      "{'max_depth': 1, 'n_estimators': 100}\n",
      "{'max_depth': 10, 'n_estimators': 1}\n",
      "{'max_depth': 10, 'n_estimators': 10}\n",
      "{'max_depth': 10, 'n_estimators': 100}\n",
      "{'max_depth': 20, 'n_estimators': 1}\n",
      "{'max_depth': 20, 'n_estimators': 10}\n",
      "{'max_depth': 20, 'n_estimators': 100}\n"
     ]
    }
   ],
   "source": [
    "# Random Forest Regression Params\n",
    "# n_estimators : [1, 10, 50, 100] This can be any value, but choosing these three for faster computation.\n",
    "# max_depth : [1, 10, 20]  This can be any value, but choosing these three for faster computation.\n",
    "# More params here : https://scikit-learn.org/stable/modules/generated/sklearn.ensemble.RandomForestRegressor.html\n",
    "params = {\"n_estimators\" : [1, 10, 100], \"max_depth\" : [1, 10, 20]}\n",
    "grid = list(ParameterGrid(params))\n",
    "result = [] # This result will contain the results for 5 cross validations per param combination created by ParameterGrid\n",
    "for param in grid :\n",
    "  print(param)\n",
    "#   result.append(cross_validate(RandomForestRegressor(*param),crossValidationSet, test_x, test_y))"
   ]
  },
  {
   "cell_type": "markdown",
   "metadata": {},
   "source": [
    "# Neural Net - Multi Layer Perceptron"
   ]
  },
  {
   "cell_type": "code",
   "execution_count": 24,
   "metadata": {},
   "outputs": [
    {
     "data": {
      "text/plain": [
       "MLPRegressor(activation='relu', alpha=0.0001, batch_size='auto', beta_1=0.9,\n",
       "       beta_2=0.999, early_stopping=False, epsilon=1e-08,\n",
       "       hidden_layer_sizes=(100,), learning_rate='constant',\n",
       "       learning_rate_init=0.001, max_iter=200, momentum=0.9,\n",
       "       n_iter_no_change=10, nesterovs_momentum=True, power_t=0.5,\n",
       "       random_state=None, shuffle=True, solver='adam', tol=0.0001,\n",
       "       validation_fraction=0.1, verbose=False, warm_start=False)"
      ]
     },
     "execution_count": 24,
     "metadata": {},
     "output_type": "execute_result"
    }
   ],
   "source": [
    "nn = MLPRegressor() # Init\n",
    "# nn = MLPRegressor(hidden_layer_sizes=(10,),  activation='relu', solver='lbfgs',alpha=0.001,batch_size='auto',\n",
    "#               learning_rate='constant', learning_rate_init=0.01, power_t=0.5, max_iter=1000, shuffle=True,\n",
    "#               random_state=None, tol=0.0001, verbose=False, warm_start=False, momentum=0.9,\n",
    "#               nesterovs_momentum=True, early_stopping=False, validation_fraction=0.1, beta_1=0.9, beta_2=0.999,\n",
    "#               epsilon=1e-08)\n",
    "nn.fit(train_x, train_y) # Train"
   ]
  },
  {
   "cell_type": "markdown",
   "metadata": {},
   "source": [
    "# Multi Layer Perceptron Score and MSE. \n",
    "1. Score (0.0 to 1.0) 1.0 being the highest \n",
    "2. MSE (0.0 to 1.0) 0.0 being the best"
   ]
  },
  {
   "cell_type": "code",
   "execution_count": 25,
   "metadata": {},
   "outputs": [
    {
     "name": "stdout",
     "output_type": "stream",
     "text": [
      "********************MSE********************\n",
      "Training Set Score Multi Layer Perceptron : -8.553775603381554e-07\n",
      "Validation Set Score Multi Layer Perceptron : -0.0686280491004474\n",
      "Test Set Score Multi Layer Perceptron : -0.0342429294826081\n",
      "Training Set MSE Multi Layer Perceptron : 19.068484749222915\n",
      "Validation Set MSE Multi Layer Perceptron : 19.771376965188686\n",
      "Test Set MSE Multi Layer Perceptron : 19.786061384894957\n",
      "********************MAPE********************\n",
      "Training Set Score Multi Layer Perceptron : -8.553775603381554e-07\n",
      "Validation Set Score Multi Layer Perceptron : -0.0686280491004474\n",
      "Test Set Score Multi Layer Perceptron : -0.0342429294826081\n",
      "Training Set MAPE Multi Layer Perceptron : 30.269689957144386\n",
      "Validation Set MAPE Multi Layer Perceptron : 36.84744143872189\n",
      "Test Set MAPE Multi Layer Perceptron : 34.83580991482615\n"
     ]
    }
   ],
   "source": [
    "print(\"********************MSE********************\")\n",
    "# MSE on training set\n",
    "print(\"Training Set Score Multi Layer Perceptron :\", nn.score(train_x, train_y))\n",
    "\n",
    "# MSE on validation set\n",
    "print(\"Validation Set Score Multi Layer Perceptron :\", nn.score(val_x, val_y))\n",
    "\n",
    "# MSE on test set\n",
    "print(\"Test Set Score Multi Layer Perceptron :\", nn.score(test_x, test_y))\n",
    "\n",
    "# MSE on training set\n",
    "print(\"Training Set MSE Multi Layer Perceptron :\", mean_squared_error(train_y, nn.predict(train_x)))\n",
    "\n",
    "# MSE on validation set\n",
    "print(\"Validation Set MSE Multi Layer Perceptron :\", mean_squared_error(val_y, nn.predict(val_x)))\n",
    "\n",
    "# MSE on test set\n",
    "print(\"Test Set MSE Multi Layer Perceptron :\", mean_squared_error(test_y, nn.predict(test_x)))\n",
    "\n",
    "print(\"********************MAPE********************\")\n",
    "# MSE on training set\n",
    "print(\"Training Set Score Multi Layer Perceptron :\", nn.score(train_x, train_y))\n",
    "\n",
    "# MSE on validation set\n",
    "print(\"Validation Set Score Multi Layer Perceptron :\", nn.score(val_x, val_y))\n",
    "\n",
    "# MSE on test set\n",
    "print(\"Test Set Score Multi Layer Perceptron :\", nn.score(test_x, test_y))\n",
    "\n",
    "# MSE on training set\n",
    "print(\"Training Set MAPE Multi Layer Perceptron :\", mape(train_y, nn.predict(train_x)))\n",
    "\n",
    "# MSE on validation set\n",
    "print(\"Validation Set MAPE Multi Layer Perceptron :\", mape(val_y, nn.predict(val_x)))\n",
    "\n",
    "# MSE on test set\n",
    "print(\"Test Set MAPE Multi Layer Perceptron :\", mape(test_y, nn.predict(test_x)))"
   ]
  },
  {
   "cell_type": "code",
   "execution_count": 26,
   "metadata": {},
   "outputs": [],
   "source": [
    "nn_predictions = nn.predict(test_x)"
   ]
  },
  {
   "cell_type": "code",
   "execution_count": 27,
   "metadata": {},
   "outputs": [
    {
     "data": {
      "text/plain": [
       "<matplotlib.collections.PathCollection at 0x1d581180710>"
      ]
     },
     "execution_count": 27,
     "metadata": {},
     "output_type": "execute_result"
    },
    {
     "data": {
      "image/png": "[encoded data removed]",
      "text/plain": [
       "<Figure size 432x288 with 1 Axes>"
      ]
     },
     "metadata": {
      "needs_background": "light"
     },
     "output_type": "display_data"
    }
   ],
   "source": [
    "plt.scatter(test_y,nn_predictions)"
   ]
  },
  {
   "cell_type": "code",
   "execution_count": null,
   "metadata": {},
   "outputs": [],
   "source": []
  }
 ],
 "metadata": {
  "kernelspec": {
   "display_name": "Python 3",
   "language": "python",
   "name": "python3"
  },
  "language_info": {
   "codemirror_mode": {
    "name": "ipython",
    "version": 3
   },
   "file_extension": ".py",
   "mimetype": "text/x-python",
   "name": "python",
   "nbconvert_exporter": "python",
   "pygments_lexer": "ipython3",
   "version": "3.7.1"
  }
 },
 "nbformat": 4,
 "nbformat_minor": 2
}
