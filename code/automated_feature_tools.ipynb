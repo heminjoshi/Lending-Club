{
 "cells": [
  {
   "cell_type": "code",
   "execution_count": 9,
   "metadata": {},
   "outputs": [],
   "source": [
    "import featuretools as ft\n",
    "import pandas as pad\n",
    "import numpy as np\n",
    "import os\n",
    "lc_data=pad.read_csv(\"D:\\Academic\\Data Science\\lc_data/clean_data.csv\", low_memory=False)\n",
    "\n",
    "interest_rate=lc_data['int_rate']\n"
   ]
  },
  {
   "cell_type": "code",
   "execution_count": 10,
   "metadata": {},
   "outputs": [
    {
     "data": {
      "text/plain": [
       "Entityset: interest_rate\n",
       "  Entities:\n",
       "    credit_rating [Rows: 887379, Columns: 18]\n",
       "    borrower [Rows: 887379, Columns: 12]\n",
       "  Relationships:\n",
       "    credit_rating.member_id -> borrower.member_id"
      ]
     },
     "execution_count": 10,
     "metadata": {},
     "output_type": "execute_result"
    }
   ],
   "source": [
    "es=ft.EntitySet(id='interest_rate')\n",
    "\n",
    "es.entity_from_dataframe(entity_id = 'credit_rating', dataframe = lc_data, index = 'id')\n",
    "\n",
    "es.normalize_entity(base_entity_id='credit_rating', new_entity_id='borrower', index = 'member_id', \n",
    "additional_variables = ['loan_amnt','installment','emp_length','home_ownership','annual_inc','verification_status_joint','dti','dti_joint',\n",
    "'open_acc','total_acc','annual_inc_joint'])\n",
    "\n"
   ]
  },
  {
   "cell_type": "code",
   "execution_count": 11,
   "metadata": {},
   "outputs": [
    {
     "name": "stdout",
     "output_type": "stream",
     "text": [
      "Built 28 features\n",
      "EntitySet scattered to workers in 5.474 seconds\n",
      "Elapsed: 00:09 | Remaining: 00:00 | Progress: 100%|██████████████████████████████████████████| Calculated: 11/11 chunks\n"
     ]
    },
    {
     "name": "stderr",
     "output_type": "stream",
     "text": [
      "tornado.application - ERROR - Exception in Future <Future cancelled> after timeout\n",
      "Traceback (most recent call last):\n",
      "  File \"C:\\ProgramData\\Anaconda3\\lib\\site-packages\\tornado\\gen.py\", line 970, in error_callback\n",
      "    future.result()\n",
      "concurrent.futures._base.CancelledError\n",
      "distributed.comm.tcp - WARNING - Closing dangling stream in <TCP local=tcp://127.0.0.1:57357 remote=tcp://127.0.0.1:57296>\n"
     ]
    }
   ],
   "source": [
    "feature_matrix, feature_names = ft.dfs(entityset=es, \n",
    "target_entity = 'credit_rating', agg_primitives = ['min','max','mean','count','sum'], trans_primitives = ['cum_mean', 'cum_sum'],\n",
    "                                       max_depth = 1, \n",
    "                                       verbose = 1, \n",
    "                                       n_jobs = 5)\n",
    "\n"
   ]
  },
  {
   "cell_type": "code",
   "execution_count": 12,
   "metadata": {
    "scrolled": true
   },
   "outputs": [
    {
     "data": {
      "text/plain": [
       "Index(['member_id', 'funded_amnt', 'term', 'int_rate', 'grade', 'sub_grade',\n",
       "       'loan_status', 'pymnt_plan', 'initial_list_status', 'out_prncp',\n",
       "       'total_pymnt', 'total_rec_prncp', 'total_rec_int', 'total_rec_late_fee',\n",
       "       'recoveries', 'last_pymnt_amnt', 'application_type',\n",
       "       'borrower.loan_amnt', 'borrower.installment', 'borrower.emp_length',\n",
       "       'borrower.home_ownership', 'borrower.annual_inc',\n",
       "       'borrower.verification_status_joint', 'borrower.dti',\n",
       "       'borrower.dti_joint', 'borrower.open_acc', 'borrower.total_acc',\n",
       "       'borrower.annual_inc_joint'],\n",
       "      dtype='object')"
      ]
     },
     "execution_count": 12,
     "metadata": {},
     "output_type": "execute_result"
    }
   ],
   "source": [
    "feature_matrix.columns"
   ]
  },
  {
   "cell_type": "code",
   "execution_count": 13,
   "metadata": {
    "scrolled": true
   },
   "outputs": [],
   "source": [
    "feature_matrix.to_csv(\"D:\\Academic\\Data Science\\lc_data/feature_matrix.csv\")"
   ]
  },
  {
   "cell_type": "code",
   "execution_count": null,
   "metadata": {},
   "outputs": [],
   "source": []
  }
 ],
 "metadata": {
  "kernelspec": {
   "display_name": "Python 3",
   "language": "python",
   "name": "python3"
  },
  "language_info": {
   "codemirror_mode": {
    "name": "ipython",
    "version": 3
   },
   "file_extension": ".py",
   "mimetype": "text/x-python",
   "name": "python",
   "nbconvert_exporter": "python",
   "pygments_lexer": "ipython3",
   "version": "3.7.1"
  }
 },
 "nbformat": 4,
 "nbformat_minor": 2
}
