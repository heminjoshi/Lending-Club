{
 "cells": [
  {
   "cell_type": "code",
   "execution_count": 1,
   "metadata": {},
   "outputs": [],
   "source": [
    "import math\n",
    "import numpy as np\n",
    "import pandas as pd\n",
    "import matplotlib.pyplot as plt\n",
    "import seaborn as sb\n",
    "import warnings\n",
    "warnings.filterwarnings('ignore')"
   ]
  },
  {
   "cell_type": "code",
   "execution_count": 2,
   "metadata": {
    "scrolled": true
   },
   "outputs": [],
   "source": [
    "dataset = pd.read_csv('D:\\Academic\\Data Science\\lc_data\\lending-club-loan-data/loan.csv')\n",
    "findMeanAndReplace_cols = pd.read_csv('D:\\Academic\\Data Science\\lc_data/findMeanAndReplace_cols.csv')\n",
    "remap_cols = pd.read_csv('D:\\Academic\\Data Science\\lc_data/remap_cols.csv')\n",
    "drop_cols = pd.read_csv('D:\\Academic\\Data Science\\lc_data/drop_col.csv')"
   ]
  },
  {
   "cell_type": "code",
   "execution_count": 3,
   "metadata": {},
   "outputs": [
    {
     "data": {
      "text/html": [
       "<div>\n",
       "<style scoped>\n",
       "    .dataframe tbody tr th:only-of-type {\n",
       "        vertical-align: middle;\n",
       "    }\n",
       "\n",
       "    .dataframe tbody tr th {\n",
       "        vertical-align: top;\n",
       "    }\n",
       "\n",
       "    .dataframe thead th {\n",
       "        text-align: right;\n",
       "    }\n",
       "</style>\n",
       "<table border=\"1\" class=\"dataframe\">\n",
       "  <thead>\n",
       "    <tr style=\"text-align: right;\">\n",
       "      <th></th>\n",
       "      <th>id</th>\n",
       "      <th>member_id</th>\n",
       "      <th>loan_amnt</th>\n",
       "      <th>funded_amnt</th>\n",
       "      <th>funded_amnt_inv</th>\n",
       "      <th>term</th>\n",
       "      <th>int_rate</th>\n",
       "      <th>installment</th>\n",
       "      <th>grade</th>\n",
       "      <th>sub_grade</th>\n",
       "      <th>...</th>\n",
       "      <th>total_bal_il</th>\n",
       "      <th>il_util</th>\n",
       "      <th>open_rv_12m</th>\n",
       "      <th>open_rv_24m</th>\n",
       "      <th>max_bal_bc</th>\n",
       "      <th>all_util</th>\n",
       "      <th>total_rev_hi_lim</th>\n",
       "      <th>inq_fi</th>\n",
       "      <th>total_cu_tl</th>\n",
       "      <th>inq_last_12m</th>\n",
       "    </tr>\n",
       "  </thead>\n",
       "  <tbody>\n",
       "    <tr>\n",
       "      <th>0</th>\n",
       "      <td>1077501</td>\n",
       "      <td>1296599</td>\n",
       "      <td>5000.0</td>\n",
       "      <td>5000.0</td>\n",
       "      <td>4975.0</td>\n",
       "      <td>36 months</td>\n",
       "      <td>10.65</td>\n",
       "      <td>162.87</td>\n",
       "      <td>B</td>\n",
       "      <td>B2</td>\n",
       "      <td>...</td>\n",
       "      <td>NaN</td>\n",
       "      <td>NaN</td>\n",
       "      <td>NaN</td>\n",
       "      <td>NaN</td>\n",
       "      <td>NaN</td>\n",
       "      <td>NaN</td>\n",
       "      <td>NaN</td>\n",
       "      <td>NaN</td>\n",
       "      <td>NaN</td>\n",
       "      <td>NaN</td>\n",
       "    </tr>\n",
       "    <tr>\n",
       "      <th>1</th>\n",
       "      <td>1077430</td>\n",
       "      <td>1314167</td>\n",
       "      <td>2500.0</td>\n",
       "      <td>2500.0</td>\n",
       "      <td>2500.0</td>\n",
       "      <td>60 months</td>\n",
       "      <td>15.27</td>\n",
       "      <td>59.83</td>\n",
       "      <td>C</td>\n",
       "      <td>C4</td>\n",
       "      <td>...</td>\n",
       "      <td>NaN</td>\n",
       "      <td>NaN</td>\n",
       "      <td>NaN</td>\n",
       "      <td>NaN</td>\n",
       "      <td>NaN</td>\n",
       "      <td>NaN</td>\n",
       "      <td>NaN</td>\n",
       "      <td>NaN</td>\n",
       "      <td>NaN</td>\n",
       "      <td>NaN</td>\n",
       "    </tr>\n",
       "    <tr>\n",
       "      <th>2</th>\n",
       "      <td>1077175</td>\n",
       "      <td>1313524</td>\n",
       "      <td>2400.0</td>\n",
       "      <td>2400.0</td>\n",
       "      <td>2400.0</td>\n",
       "      <td>36 months</td>\n",
       "      <td>15.96</td>\n",
       "      <td>84.33</td>\n",
       "      <td>C</td>\n",
       "      <td>C5</td>\n",
       "      <td>...</td>\n",
       "      <td>NaN</td>\n",
       "      <td>NaN</td>\n",
       "      <td>NaN</td>\n",
       "      <td>NaN</td>\n",
       "      <td>NaN</td>\n",
       "      <td>NaN</td>\n",
       "      <td>NaN</td>\n",
       "      <td>NaN</td>\n",
       "      <td>NaN</td>\n",
       "      <td>NaN</td>\n",
       "    </tr>\n",
       "    <tr>\n",
       "      <th>3</th>\n",
       "      <td>1076863</td>\n",
       "      <td>1277178</td>\n",
       "      <td>10000.0</td>\n",
       "      <td>10000.0</td>\n",
       "      <td>10000.0</td>\n",
       "      <td>36 months</td>\n",
       "      <td>13.49</td>\n",
       "      <td>339.31</td>\n",
       "      <td>C</td>\n",
       "      <td>C1</td>\n",
       "      <td>...</td>\n",
       "      <td>NaN</td>\n",
       "      <td>NaN</td>\n",
       "      <td>NaN</td>\n",
       "      <td>NaN</td>\n",
       "      <td>NaN</td>\n",
       "      <td>NaN</td>\n",
       "      <td>NaN</td>\n",
       "      <td>NaN</td>\n",
       "      <td>NaN</td>\n",
       "      <td>NaN</td>\n",
       "    </tr>\n",
       "    <tr>\n",
       "      <th>4</th>\n",
       "      <td>1075358</td>\n",
       "      <td>1311748</td>\n",
       "      <td>3000.0</td>\n",
       "      <td>3000.0</td>\n",
       "      <td>3000.0</td>\n",
       "      <td>60 months</td>\n",
       "      <td>12.69</td>\n",
       "      <td>67.79</td>\n",
       "      <td>B</td>\n",
       "      <td>B5</td>\n",
       "      <td>...</td>\n",
       "      <td>NaN</td>\n",
       "      <td>NaN</td>\n",
       "      <td>NaN</td>\n",
       "      <td>NaN</td>\n",
       "      <td>NaN</td>\n",
       "      <td>NaN</td>\n",
       "      <td>NaN</td>\n",
       "      <td>NaN</td>\n",
       "      <td>NaN</td>\n",
       "      <td>NaN</td>\n",
       "    </tr>\n",
       "  </tbody>\n",
       "</table>\n",
       "<p>5 rows × 74 columns</p>\n",
       "</div>"
      ],
      "text/plain": [
       "        id  member_id  loan_amnt  funded_amnt  funded_amnt_inv        term  \\\n",
       "0  1077501    1296599     5000.0       5000.0           4975.0   36 months   \n",
       "1  1077430    1314167     2500.0       2500.0           2500.0   60 months   \n",
       "2  1077175    1313524     2400.0       2400.0           2400.0   36 months   \n",
       "3  1076863    1277178    10000.0      10000.0          10000.0   36 months   \n",
       "4  1075358    1311748     3000.0       3000.0           3000.0   60 months   \n",
       "\n",
       "   int_rate  installment grade sub_grade     ...      total_bal_il il_util  \\\n",
       "0     10.65       162.87     B        B2     ...               NaN     NaN   \n",
       "1     15.27        59.83     C        C4     ...               NaN     NaN   \n",
       "2     15.96        84.33     C        C5     ...               NaN     NaN   \n",
       "3     13.49       339.31     C        C1     ...               NaN     NaN   \n",
       "4     12.69        67.79     B        B5     ...               NaN     NaN   \n",
       "\n",
       "  open_rv_12m  open_rv_24m max_bal_bc all_util total_rev_hi_lim inq_fi  \\\n",
       "0         NaN          NaN        NaN      NaN              NaN    NaN   \n",
       "1         NaN          NaN        NaN      NaN              NaN    NaN   \n",
       "2         NaN          NaN        NaN      NaN              NaN    NaN   \n",
       "3         NaN          NaN        NaN      NaN              NaN    NaN   \n",
       "4         NaN          NaN        NaN      NaN              NaN    NaN   \n",
       "\n",
       "  total_cu_tl inq_last_12m  \n",
       "0         NaN          NaN  \n",
       "1         NaN          NaN  \n",
       "2         NaN          NaN  \n",
       "3         NaN          NaN  \n",
       "4         NaN          NaN  \n",
       "\n",
       "[5 rows x 74 columns]"
      ]
     },
     "execution_count": 3,
     "metadata": {},
     "output_type": "execute_result"
    }
   ],
   "source": [
    "dataset.head(5)"
   ]
  },
  {
   "cell_type": "markdown",
   "metadata": {},
   "source": [
    "# Basic Feature Removal\n",
    "1. Remove any column that has a null value <<< Not ideal. Change it.\n",
    "2. Convert all non-numeric columns to numeric representations."
   ]
  },
  {
   "cell_type": "code",
   "execution_count": 4,
   "metadata": {},
   "outputs": [],
   "source": [
    "#Labels (y_true of this dataset)\n",
    "#y = dataset.pop(\"int_rate\")\n",
    "# Drop Columns with Null values.\n",
    "# Usually, null values need to be filled with mean or some kind of aggregate function. \n",
    "# Must Analyse each feature for that.\n",
    "#dataset = dataset.dropna(axis=1)\n",
    "def deleteColumns(df, col):\n",
    "    df.pop(col)"
   ]
  },
  {
   "cell_type": "code",
   "execution_count": 5,
   "metadata": {},
   "outputs": [],
   "source": [
    "for col in list(drop_cols[\"Columns\"]):\n",
    "    deleteColumns(dataset,col)"
   ]
  },
  {
   "cell_type": "code",
   "execution_count": 6,
   "metadata": {},
   "outputs": [],
   "source": [
    "#Calculate mean of a column and Replace Nulls\n",
    "def findMeanAndReplaceNull(df, col):\n",
    "    col_values = list(df[col]);\n",
    "    nan_values = 0\n",
    "    sum = 0\n",
    "    #Checking nan values in each column list so that it is not included in sum\n",
    "    for value in col_values:\n",
    "        if(math.isnan(value)):\n",
    "            nan_values = nan_values+1\n",
    "            #print(\"Nan\")\n",
    "        else:\n",
    "            sum = sum+value\n",
    "    col_mean = sum/(len(col_values)-nan_values) \n",
    "    print(\"Col_length : \" + str(len(col_values))+\"\\tCol Sum : \"+str(sum)+\"\\tMean : \"+str(col_mean)+\"\\tCol_name : \"+col)\n",
    "    if(math.isnan(col_mean)):\n",
    "        print(\"*************************\"+col+\"*************************\")\n",
    "    if(nan_values == len(col_values)):\n",
    "        print(\"*************************\"+col+\"*************************\")\n",
    "    df[col].fillna(col_mean, inplace=True) #Replacing nulls with mean"
   ]
  },
  {
   "cell_type": "code",
   "execution_count": 7,
   "metadata": {},
   "outputs": [],
   "source": [
    "\n",
    "def findMeanAndReplaceNullInDataset(df,findMeanAndReplace_cols):\n",
    "    for col in list(findMeanAndReplace_cols[\"Columns\"]):\n",
    "        findMeanAndReplaceNull(df,col)\n"
   ]
  },
  {
   "cell_type": "code",
   "execution_count": 8,
   "metadata": {},
   "outputs": [
    {
     "name": "stdout",
     "output_type": "stream",
     "text": [
      "Col_length : 887379\tCol Sum : 13093511950.0\tMean : 14755.26460508982\tCol_name : loan_amnt\n",
      "Col_length : 887379\tCol Sum : 13081632625.0\tMean : 14741.877625005776\tCol_name : funded_amnt\n",
      "Col_length : 887379\tCol Sum : 13046658141.926006\tMean : 14702.46438322972\tCol_name : funded_amnt_inv\n",
      "Col_length : 887379\tCol Sum : 11754878.610034421\tMean : 13.246739679476775\tCol_name : int_rate\n",
      "Col_length : 887379\tCol Sum : 387533607.7601214\tMean : 436.7171273605995\tCol_name : installment\n",
      "Col_length : 887379\tCol Sum : 66577605689.21044\tMean : 75027.58776076681\tCol_name : annual_inc\n",
      "Col_length : 887379\tCol Sum : 16112174.879999854\tMean : 18.157038739929448\tCol_name : dti\n",
      "Col_length : 887379\tCol Sum : 279020.0\tMean : 0.31444187750042263\tCol_name : delinq_2yrs\n",
      "Col_length : 887379\tCol Sum : 616374.0\tMean : 0.694623316616893\tCol_name : inq_last_6mths\n",
      "Col_length : 887379\tCol Sum : 14751907.0\tMean : 34.06379844227337\tCol_name : mths_since_last_delinq\n",
      "Col_length : 887379\tCol Sum : 9609869.0\tMean : 70.1179032928867\tCol_name : mths_since_last_record\n",
      "Col_length : 887379\tCol Sum : 10247534.0\tMean : 11.548469037020341\tCol_name : open_acc\n",
      "Col_length : 887379\tCol Sum : 173306.0\tMean : 0.19530737589451738\tCol_name : pub_rec\n",
      "Col_length : 887379\tCol Sum : 15015151520.0\tMean : 16920.78753272277\tCol_name : revol_bal\n",
      "Col_length : 887379\tCol Sum : 48838270.57000199\tMean : 55.0676932314199\tCol_name : revol_util\n",
      "Col_length : 887379\tCol Sum : 22421583.0\tMean : 25.26802614526399\tCol_name : total_acc\n",
      "Col_length : 887379\tCol Sum : 7456756527.960241\tMean : 8403.124851906841\tCol_name : out_prncp\n",
      "Col_length : 887379\tCol Sum : 7453729137.090269\tMean : 8399.71324213247\tCol_name : out_prncp_inv\n",
      "Col_length : 887379\tCol Sum : 6707544063.703547\tMean : 7558.826683641992\tCol_name : total_pymnt\n",
      "Col_length : 887379\tCol Sum : 6674119711.3089285\tMean : 7521.160306147574\tCol_name : total_pymnt_inv\n",
      "Col_length : 887379\tCol Sum : 5109267768.489849\tMean : 5757.70642362491\tCol_name : total_rec_prncp\n",
      "Col_length : 887379\tCol Sum : 1557176508.5700939\tMean : 1754.8043266406958\tCol_name : total_rec_int\n",
      "Col_length : 887379\tCol Sum : 352015.9650539062\tMean : 0.3966917912796068\tCol_name : total_rec_late_fee\n",
      "Col_length : 887379\tCol Sum : 40747772.26296362\tMean : 45.91924337060447\tCol_name : recoveries\n",
      "Col_length : 887379\tCol Sum : 4331081.602100401\tMean : 4.880757378865627\tCol_name : collection_recovery_fee\n",
      "Col_length : 887379\tCol Sum : 1920417345.4782414\tMean : 2164.1455854581204\tCol_name : last_pymnt_amnt\n",
      "Col_length : 887379\tCol Sum : 12758.0\tMean : 0.014379521073358326\tCol_name : collections_12_mths_ex_med\n",
      "Col_length : 887379\tCol Sum : 9778175.0\tMean : 44.10483845505023\tCol_name : mths_since_last_major_derog\n",
      "Col_length : 887379\tCol Sum : 56200296.91999999\tMean : 109981.01158512717\tCol_name : annual_inc_joint\n",
      "Col_length : 887379\tCol Sum : 9319.850000000004\tMean : 18.310117878192543\tCol_name : dti_joint\n",
      "Col_length : 887379\tCol Sum : 4429.0\tMean : 0.004991266129486673\tCol_name : acc_now_delinq\n"
     ]
    }
   ],
   "source": [
    "findMeanAndReplaceNullInDataset(dataset,findMeanAndReplace_cols)\n",
    "#findMeanAndReplaceNull(dataset, \"annual_inc\")"
   ]
  },
  {
   "cell_type": "code",
   "execution_count": 13,
   "metadata": {},
   "outputs": [
    {
     "name": "stdout",
     "output_type": "stream",
     "text": [
      "Col_length : 887379\tCol Sum : 11754878.610034421\tMean : 13.246739679476775\tCol_name : int_rate\n"
     ]
    }
   ],
   "source": [
    "findMeanAndReplaceNull(dataset, \"int_rate\")"
   ]
  },
  {
   "cell_type": "code",
   "execution_count": 14,
   "metadata": {},
   "outputs": [],
   "source": [
    "# Function to remap non-numeric values to a number value.\n",
    "def remap(df, col) :\n",
    "  col_set = list(set(df[col]));  # Get the column specified, covert it to set so that all duplicates are removed\n",
    "  col_set_map = {val: i+1 for i, val in enumerate(sorted(col_set))} # Enumerate over the sorted set and build a Mapping dictionary\n",
    "  df[col].replace(col_set_map, inplace=True) # Replace the values with the provided map\n",
    "  print(\"Remaped\", col, \"with\", col_set_map); # Log\n",
    "  "
   ]
  },
  {
   "cell_type": "code",
   "execution_count": 15,
   "metadata": {},
   "outputs": [
    {
     "name": "stdout",
     "output_type": "stream",
     "text": [
      "Remaped term with {' 36 months': 1, ' 60 months': 2}\n"
     ]
    }
   ],
   "source": [
    "# Convert non-numeric columns to numeric\n",
    "remap(dataset, \"term\")"
   ]
  },
  {
   "cell_type": "code",
   "execution_count": 16,
   "metadata": {},
   "outputs": [
    {
     "name": "stdout",
     "output_type": "stream",
     "text": [
      "Remaped grade with {'A': 1, 'B': 2, 'C': 3, 'D': 4, 'E': 5, 'F': 6, 'G': 7}\n"
     ]
    }
   ],
   "source": [
    "remap(dataset, \"grade\")"
   ]
  },
  {
   "cell_type": "code",
   "execution_count": 17,
   "metadata": {},
   "outputs": [
    {
     "name": "stdout",
     "output_type": "stream",
     "text": [
      "Remaped sub_grade with {'A1': 1, 'A2': 2, 'A3': 3, 'A4': 4, 'A5': 5, 'B1': 6, 'B2': 7, 'B3': 8, 'B4': 9, 'B5': 10, 'C1': 11, 'C2': 12, 'C3': 13, 'C4': 14, 'C5': 15, 'D1': 16, 'D2': 17, 'D3': 18, 'D4': 19, 'D5': 20, 'E1': 21, 'E2': 22, 'E3': 23, 'E4': 24, 'E5': 25, 'F1': 26, 'F2': 27, 'F3': 28, 'F4': 29, 'F5': 30, 'G1': 31, 'G2': 32, 'G3': 33, 'G4': 34, 'G5': 35}\n"
     ]
    }
   ],
   "source": [
    "remap(dataset, \"sub_grade\")"
   ]
  },
  {
   "cell_type": "code",
   "execution_count": 18,
   "metadata": {},
   "outputs": [
    {
     "name": "stdout",
     "output_type": "stream",
     "text": [
      "Remaped verification_status with {'Not Verified': 1, 'Source Verified': 2, 'Verified': 3}\n"
     ]
    }
   ],
   "source": [
    "remap(dataset, \"verification_status\")"
   ]
  },
  {
   "cell_type": "code",
   "execution_count": 19,
   "metadata": {},
   "outputs": [
    {
     "name": "stdout",
     "output_type": "stream",
     "text": [
      "Remaped loan_status with {'Charged Off': 1, 'Current': 2, 'Default': 3, 'Does not meet the credit policy. Status:Charged Off': 4, 'Does not meet the credit policy. Status:Fully Paid': 5, 'Fully Paid': 6, 'In Grace Period': 7, 'Issued': 8, 'Late (16-30 days)': 9, 'Late (31-120 days)': 10}\n"
     ]
    }
   ],
   "source": [
    "remap(dataset, \"loan_status\")"
   ]
  },
  {
   "cell_type": "code",
   "execution_count": 20,
   "metadata": {},
   "outputs": [
    {
     "name": "stdout",
     "output_type": "stream",
     "text": [
      "Remaped home_ownership with {'ANY': 1, 'MORTGAGE': 2, 'NONE': 3, 'OTHER': 4, 'OWN': 5, 'RENT': 6}\n"
     ]
    }
   ],
   "source": [
    "remap(dataset, \"home_ownership\")"
   ]
  },
  {
   "cell_type": "code",
   "execution_count": 21,
   "metadata": {},
   "outputs": [
    {
     "name": "stdout",
     "output_type": "stream",
     "text": [
      "Remaped application_type with {'INDIVIDUAL': 1, 'JOINT': 2}\n"
     ]
    }
   ],
   "source": [
    "remap(dataset, \"application_type\")"
   ]
  },
  {
   "cell_type": "code",
   "execution_count": 22,
   "metadata": {},
   "outputs": [
    {
     "name": "stdout",
     "output_type": "stream",
     "text": [
      "Remaped initial_list_status with {'f': 1, 'w': 2}\n"
     ]
    }
   ],
   "source": [
    "remap(dataset, \"initial_list_status\")"
   ]
  },
  {
   "cell_type": "code",
   "execution_count": 23,
   "metadata": {},
   "outputs": [
    {
     "name": "stdout",
     "output_type": "stream",
     "text": [
      "Remaped pymnt_plan with {'n': 1, 'y': 2}\n"
     ]
    }
   ],
   "source": [
    "remap(dataset, \"pymnt_plan\")"
   ]
  },
  {
   "cell_type": "code",
   "execution_count": 24,
   "metadata": {},
   "outputs": [
    {
     "name": "stdout",
     "output_type": "stream",
     "text": [
      "Dropped the following columns: member_id, id, issue_d, url, purpose, zip_code, addr_state, emp_title, emp_length, desc, title, earliest_cr_line, last_pymnt_d, next_pymnt_d, last_credit_pull_d, verification_status_joint\n"
     ]
    }
   ],
   "source": [
    "# Dropping Columns that are not needed. [Dates, ids, urls, address, etc]\n",
    "cols = [\"member_id\", \"id\", \"issue_d\", \"url\", \"purpose\",\"zip_code\", \"addr_state\",\"emp_title\", \"emp_length\", \"desc\", \"title\", \"earliest_cr_line\", \"last_pymnt_d\", \"next_pymnt_d\", \"last_credit_pull_d\", \"verification_status_joint\"] # Add the columns that need to be dropped\n",
    "for column in cols :\n",
    "  dataset.pop(column) # Drop the column\n",
    "print(\"Dropped the following columns:\", ', '.join(cols)) # Log"
   ]
  },
  {
   "cell_type": "code",
   "execution_count": 25,
   "metadata": {},
   "outputs": [
    {
     "data": {
      "text/html": [
       "<div>\n",
       "<style scoped>\n",
       "    .dataframe tbody tr th:only-of-type {\n",
       "        vertical-align: middle;\n",
       "    }\n",
       "\n",
       "    .dataframe tbody tr th {\n",
       "        vertical-align: top;\n",
       "    }\n",
       "\n",
       "    .dataframe thead th {\n",
       "        text-align: right;\n",
       "    }\n",
       "</style>\n",
       "<table border=\"1\" class=\"dataframe\">\n",
       "  <thead>\n",
       "    <tr style=\"text-align: right;\">\n",
       "      <th></th>\n",
       "      <th>loan_amnt</th>\n",
       "      <th>funded_amnt</th>\n",
       "      <th>funded_amnt_inv</th>\n",
       "      <th>term</th>\n",
       "      <th>int_rate</th>\n",
       "      <th>installment</th>\n",
       "      <th>grade</th>\n",
       "      <th>sub_grade</th>\n",
       "      <th>home_ownership</th>\n",
       "      <th>annual_inc</th>\n",
       "      <th>...</th>\n",
       "      <th>recoveries</th>\n",
       "      <th>collection_recovery_fee</th>\n",
       "      <th>last_pymnt_amnt</th>\n",
       "      <th>collections_12_mths_ex_med</th>\n",
       "      <th>mths_since_last_major_derog</th>\n",
       "      <th>policy_code</th>\n",
       "      <th>application_type</th>\n",
       "      <th>annual_inc_joint</th>\n",
       "      <th>dti_joint</th>\n",
       "      <th>acc_now_delinq</th>\n",
       "    </tr>\n",
       "  </thead>\n",
       "  <tbody>\n",
       "    <tr>\n",
       "      <th>0</th>\n",
       "      <td>5000.0</td>\n",
       "      <td>5000.0</td>\n",
       "      <td>4975.0</td>\n",
       "      <td>1</td>\n",
       "      <td>10.65</td>\n",
       "      <td>162.87</td>\n",
       "      <td>2</td>\n",
       "      <td>7</td>\n",
       "      <td>6</td>\n",
       "      <td>24000.0</td>\n",
       "      <td>...</td>\n",
       "      <td>0.00</td>\n",
       "      <td>0.00</td>\n",
       "      <td>171.62</td>\n",
       "      <td>0.0</td>\n",
       "      <td>44.104838</td>\n",
       "      <td>1.0</td>\n",
       "      <td>1</td>\n",
       "      <td>109981.011585</td>\n",
       "      <td>18.310118</td>\n",
       "      <td>0.0</td>\n",
       "    </tr>\n",
       "    <tr>\n",
       "      <th>1</th>\n",
       "      <td>2500.0</td>\n",
       "      <td>2500.0</td>\n",
       "      <td>2500.0</td>\n",
       "      <td>2</td>\n",
       "      <td>15.27</td>\n",
       "      <td>59.83</td>\n",
       "      <td>3</td>\n",
       "      <td>14</td>\n",
       "      <td>6</td>\n",
       "      <td>30000.0</td>\n",
       "      <td>...</td>\n",
       "      <td>117.08</td>\n",
       "      <td>1.11</td>\n",
       "      <td>119.66</td>\n",
       "      <td>0.0</td>\n",
       "      <td>44.104838</td>\n",
       "      <td>1.0</td>\n",
       "      <td>1</td>\n",
       "      <td>109981.011585</td>\n",
       "      <td>18.310118</td>\n",
       "      <td>0.0</td>\n",
       "    </tr>\n",
       "    <tr>\n",
       "      <th>2</th>\n",
       "      <td>2400.0</td>\n",
       "      <td>2400.0</td>\n",
       "      <td>2400.0</td>\n",
       "      <td>1</td>\n",
       "      <td>15.96</td>\n",
       "      <td>84.33</td>\n",
       "      <td>3</td>\n",
       "      <td>15</td>\n",
       "      <td>6</td>\n",
       "      <td>12252.0</td>\n",
       "      <td>...</td>\n",
       "      <td>0.00</td>\n",
       "      <td>0.00</td>\n",
       "      <td>649.91</td>\n",
       "      <td>0.0</td>\n",
       "      <td>44.104838</td>\n",
       "      <td>1.0</td>\n",
       "      <td>1</td>\n",
       "      <td>109981.011585</td>\n",
       "      <td>18.310118</td>\n",
       "      <td>0.0</td>\n",
       "    </tr>\n",
       "    <tr>\n",
       "      <th>3</th>\n",
       "      <td>10000.0</td>\n",
       "      <td>10000.0</td>\n",
       "      <td>10000.0</td>\n",
       "      <td>1</td>\n",
       "      <td>13.49</td>\n",
       "      <td>339.31</td>\n",
       "      <td>3</td>\n",
       "      <td>11</td>\n",
       "      <td>6</td>\n",
       "      <td>49200.0</td>\n",
       "      <td>...</td>\n",
       "      <td>0.00</td>\n",
       "      <td>0.00</td>\n",
       "      <td>357.48</td>\n",
       "      <td>0.0</td>\n",
       "      <td>44.104838</td>\n",
       "      <td>1.0</td>\n",
       "      <td>1</td>\n",
       "      <td>109981.011585</td>\n",
       "      <td>18.310118</td>\n",
       "      <td>0.0</td>\n",
       "    </tr>\n",
       "    <tr>\n",
       "      <th>4</th>\n",
       "      <td>3000.0</td>\n",
       "      <td>3000.0</td>\n",
       "      <td>3000.0</td>\n",
       "      <td>2</td>\n",
       "      <td>12.69</td>\n",
       "      <td>67.79</td>\n",
       "      <td>2</td>\n",
       "      <td>10</td>\n",
       "      <td>6</td>\n",
       "      <td>80000.0</td>\n",
       "      <td>...</td>\n",
       "      <td>0.00</td>\n",
       "      <td>0.00</td>\n",
       "      <td>67.79</td>\n",
       "      <td>0.0</td>\n",
       "      <td>44.104838</td>\n",
       "      <td>1.0</td>\n",
       "      <td>1</td>\n",
       "      <td>109981.011585</td>\n",
       "      <td>18.310118</td>\n",
       "      <td>0.0</td>\n",
       "    </tr>\n",
       "  </tbody>\n",
       "</table>\n",
       "<p>5 rows × 41 columns</p>\n",
       "</div>"
      ],
      "text/plain": [
       "   loan_amnt  funded_amnt  funded_amnt_inv  term  int_rate  installment  \\\n",
       "0     5000.0       5000.0           4975.0     1     10.65       162.87   \n",
       "1     2500.0       2500.0           2500.0     2     15.27        59.83   \n",
       "2     2400.0       2400.0           2400.0     1     15.96        84.33   \n",
       "3    10000.0      10000.0          10000.0     1     13.49       339.31   \n",
       "4     3000.0       3000.0           3000.0     2     12.69        67.79   \n",
       "\n",
       "   grade  sub_grade  home_ownership  annual_inc       ...        recoveries  \\\n",
       "0      2          7               6     24000.0       ...              0.00   \n",
       "1      3         14               6     30000.0       ...            117.08   \n",
       "2      3         15               6     12252.0       ...              0.00   \n",
       "3      3         11               6     49200.0       ...              0.00   \n",
       "4      2         10               6     80000.0       ...              0.00   \n",
       "\n",
       "   collection_recovery_fee  last_pymnt_amnt  collections_12_mths_ex_med  \\\n",
       "0                     0.00           171.62                         0.0   \n",
       "1                     1.11           119.66                         0.0   \n",
       "2                     0.00           649.91                         0.0   \n",
       "3                     0.00           357.48                         0.0   \n",
       "4                     0.00            67.79                         0.0   \n",
       "\n",
       "   mths_since_last_major_derog  policy_code  application_type  \\\n",
       "0                    44.104838          1.0                 1   \n",
       "1                    44.104838          1.0                 1   \n",
       "2                    44.104838          1.0                 1   \n",
       "3                    44.104838          1.0                 1   \n",
       "4                    44.104838          1.0                 1   \n",
       "\n",
       "   annual_inc_joint  dti_joint  acc_now_delinq  \n",
       "0     109981.011585  18.310118             0.0  \n",
       "1     109981.011585  18.310118             0.0  \n",
       "2     109981.011585  18.310118             0.0  \n",
       "3     109981.011585  18.310118             0.0  \n",
       "4     109981.011585  18.310118             0.0  \n",
       "\n",
       "[5 rows x 41 columns]"
      ]
     },
     "execution_count": 25,
     "metadata": {},
     "output_type": "execute_result"
    }
   ],
   "source": [
    "dataset.head(5)"
   ]
  },
  {
   "cell_type": "code",
   "execution_count": 26,
   "metadata": {},
   "outputs": [
    {
     "data": {
      "text/plain": [
       "Index(['loan_amnt', 'funded_amnt', 'funded_amnt_inv', 'term', 'int_rate',\n",
       "       'installment', 'grade', 'sub_grade', 'home_ownership', 'annual_inc',\n",
       "       'verification_status', 'loan_status', 'pymnt_plan', 'dti',\n",
       "       'delinq_2yrs', 'inq_last_6mths', 'mths_since_last_delinq',\n",
       "       'mths_since_last_record', 'open_acc', 'pub_rec', 'revol_bal',\n",
       "       'revol_util', 'total_acc', 'initial_list_status', 'out_prncp',\n",
       "       'out_prncp_inv', 'total_pymnt', 'total_pymnt_inv', 'total_rec_prncp',\n",
       "       'total_rec_int', 'total_rec_late_fee', 'recoveries',\n",
       "       'collection_recovery_fee', 'last_pymnt_amnt',\n",
       "       'collections_12_mths_ex_med', 'mths_since_last_major_derog',\n",
       "       'policy_code', 'application_type', 'annual_inc_joint', 'dti_joint',\n",
       "       'acc_now_delinq'],\n",
       "      dtype='object')"
      ]
     },
     "execution_count": 26,
     "metadata": {},
     "output_type": "execute_result"
    }
   ],
   "source": [
    "dataset.keys()"
   ]
  },
  {
   "cell_type": "markdown",
   "metadata": {},
   "source": [
    "Need to confirm if any value in the data frame is of non-numeric type. This is because non-numeric types cannot be used in training"
   ]
  },
  {
   "cell_type": "code",
   "execution_count": 27,
   "metadata": {},
   "outputs": [
    {
     "name": "stdout",
     "output_type": "stream",
     "text": [
      "All columns are number type.\n"
     ]
    }
   ],
   "source": [
    "columnsWithStringType = []\n",
    "for k in dataset.keys() :\n",
    "  col = dataset[k];\n",
    "  for v in col :\n",
    "    if type(v) == type(\"\"):\n",
    "      columnsWithStringType.append(k)\n",
    "      break;\n",
    "#print(columnsWithStringType)      \n",
    "assert len(columnsWithStringType) == 0, \"Some columns have string type.\"\n",
    "print(\"All columns are number type.\");"
   ]
  },
  {
   "cell_type": "code",
   "execution_count": 28,
   "metadata": {},
   "outputs": [
    {
     "data": {
      "text/html": [
       "<div>\n",
       "<style scoped>\n",
       "    .dataframe tbody tr th:only-of-type {\n",
       "        vertical-align: middle;\n",
       "    }\n",
       "\n",
       "    .dataframe tbody tr th {\n",
       "        vertical-align: top;\n",
       "    }\n",
       "\n",
       "    .dataframe thead th {\n",
       "        text-align: right;\n",
       "    }\n",
       "</style>\n",
       "<table border=\"1\" class=\"dataframe\">\n",
       "  <thead>\n",
       "    <tr style=\"text-align: right;\">\n",
       "      <th></th>\n",
       "      <th>loan_amnt</th>\n",
       "      <th>funded_amnt</th>\n",
       "      <th>funded_amnt_inv</th>\n",
       "      <th>term</th>\n",
       "      <th>int_rate</th>\n",
       "      <th>installment</th>\n",
       "      <th>grade</th>\n",
       "      <th>sub_grade</th>\n",
       "      <th>home_ownership</th>\n",
       "      <th>annual_inc</th>\n",
       "      <th>...</th>\n",
       "      <th>recoveries</th>\n",
       "      <th>collection_recovery_fee</th>\n",
       "      <th>last_pymnt_amnt</th>\n",
       "      <th>collections_12_mths_ex_med</th>\n",
       "      <th>mths_since_last_major_derog</th>\n",
       "      <th>policy_code</th>\n",
       "      <th>application_type</th>\n",
       "      <th>annual_inc_joint</th>\n",
       "      <th>dti_joint</th>\n",
       "      <th>acc_now_delinq</th>\n",
       "    </tr>\n",
       "  </thead>\n",
       "  <tbody>\n",
       "    <tr>\n",
       "      <th>0</th>\n",
       "      <td>5000.0</td>\n",
       "      <td>5000.0</td>\n",
       "      <td>4975.0</td>\n",
       "      <td>1</td>\n",
       "      <td>10.65</td>\n",
       "      <td>162.87</td>\n",
       "      <td>2</td>\n",
       "      <td>7</td>\n",
       "      <td>6</td>\n",
       "      <td>24000.0</td>\n",
       "      <td>...</td>\n",
       "      <td>0.00</td>\n",
       "      <td>0.00</td>\n",
       "      <td>171.62</td>\n",
       "      <td>0.0</td>\n",
       "      <td>44.104838</td>\n",
       "      <td>1.0</td>\n",
       "      <td>1</td>\n",
       "      <td>109981.011585</td>\n",
       "      <td>18.310118</td>\n",
       "      <td>0.0</td>\n",
       "    </tr>\n",
       "    <tr>\n",
       "      <th>1</th>\n",
       "      <td>2500.0</td>\n",
       "      <td>2500.0</td>\n",
       "      <td>2500.0</td>\n",
       "      <td>2</td>\n",
       "      <td>15.27</td>\n",
       "      <td>59.83</td>\n",
       "      <td>3</td>\n",
       "      <td>14</td>\n",
       "      <td>6</td>\n",
       "      <td>30000.0</td>\n",
       "      <td>...</td>\n",
       "      <td>117.08</td>\n",
       "      <td>1.11</td>\n",
       "      <td>119.66</td>\n",
       "      <td>0.0</td>\n",
       "      <td>44.104838</td>\n",
       "      <td>1.0</td>\n",
       "      <td>1</td>\n",
       "      <td>109981.011585</td>\n",
       "      <td>18.310118</td>\n",
       "      <td>0.0</td>\n",
       "    </tr>\n",
       "    <tr>\n",
       "      <th>2</th>\n",
       "      <td>2400.0</td>\n",
       "      <td>2400.0</td>\n",
       "      <td>2400.0</td>\n",
       "      <td>1</td>\n",
       "      <td>15.96</td>\n",
       "      <td>84.33</td>\n",
       "      <td>3</td>\n",
       "      <td>15</td>\n",
       "      <td>6</td>\n",
       "      <td>12252.0</td>\n",
       "      <td>...</td>\n",
       "      <td>0.00</td>\n",
       "      <td>0.00</td>\n",
       "      <td>649.91</td>\n",
       "      <td>0.0</td>\n",
       "      <td>44.104838</td>\n",
       "      <td>1.0</td>\n",
       "      <td>1</td>\n",
       "      <td>109981.011585</td>\n",
       "      <td>18.310118</td>\n",
       "      <td>0.0</td>\n",
       "    </tr>\n",
       "    <tr>\n",
       "      <th>3</th>\n",
       "      <td>10000.0</td>\n",
       "      <td>10000.0</td>\n",
       "      <td>10000.0</td>\n",
       "      <td>1</td>\n",
       "      <td>13.49</td>\n",
       "      <td>339.31</td>\n",
       "      <td>3</td>\n",
       "      <td>11</td>\n",
       "      <td>6</td>\n",
       "      <td>49200.0</td>\n",
       "      <td>...</td>\n",
       "      <td>0.00</td>\n",
       "      <td>0.00</td>\n",
       "      <td>357.48</td>\n",
       "      <td>0.0</td>\n",
       "      <td>44.104838</td>\n",
       "      <td>1.0</td>\n",
       "      <td>1</td>\n",
       "      <td>109981.011585</td>\n",
       "      <td>18.310118</td>\n",
       "      <td>0.0</td>\n",
       "    </tr>\n",
       "    <tr>\n",
       "      <th>4</th>\n",
       "      <td>3000.0</td>\n",
       "      <td>3000.0</td>\n",
       "      <td>3000.0</td>\n",
       "      <td>2</td>\n",
       "      <td>12.69</td>\n",
       "      <td>67.79</td>\n",
       "      <td>2</td>\n",
       "      <td>10</td>\n",
       "      <td>6</td>\n",
       "      <td>80000.0</td>\n",
       "      <td>...</td>\n",
       "      <td>0.00</td>\n",
       "      <td>0.00</td>\n",
       "      <td>67.79</td>\n",
       "      <td>0.0</td>\n",
       "      <td>44.104838</td>\n",
       "      <td>1.0</td>\n",
       "      <td>1</td>\n",
       "      <td>109981.011585</td>\n",
       "      <td>18.310118</td>\n",
       "      <td>0.0</td>\n",
       "    </tr>\n",
       "  </tbody>\n",
       "</table>\n",
       "<p>5 rows × 41 columns</p>\n",
       "</div>"
      ],
      "text/plain": [
       "   loan_amnt  funded_amnt  funded_amnt_inv  term  int_rate  installment  \\\n",
       "0     5000.0       5000.0           4975.0     1     10.65       162.87   \n",
       "1     2500.0       2500.0           2500.0     2     15.27        59.83   \n",
       "2     2400.0       2400.0           2400.0     1     15.96        84.33   \n",
       "3    10000.0      10000.0          10000.0     1     13.49       339.31   \n",
       "4     3000.0       3000.0           3000.0     2     12.69        67.79   \n",
       "\n",
       "   grade  sub_grade  home_ownership  annual_inc       ...        recoveries  \\\n",
       "0      2          7               6     24000.0       ...              0.00   \n",
       "1      3         14               6     30000.0       ...            117.08   \n",
       "2      3         15               6     12252.0       ...              0.00   \n",
       "3      3         11               6     49200.0       ...              0.00   \n",
       "4      2         10               6     80000.0       ...              0.00   \n",
       "\n",
       "   collection_recovery_fee  last_pymnt_amnt  collections_12_mths_ex_med  \\\n",
       "0                     0.00           171.62                         0.0   \n",
       "1                     1.11           119.66                         0.0   \n",
       "2                     0.00           649.91                         0.0   \n",
       "3                     0.00           357.48                         0.0   \n",
       "4                     0.00            67.79                         0.0   \n",
       "\n",
       "   mths_since_last_major_derog  policy_code  application_type  \\\n",
       "0                    44.104838          1.0                 1   \n",
       "1                    44.104838          1.0                 1   \n",
       "2                    44.104838          1.0                 1   \n",
       "3                    44.104838          1.0                 1   \n",
       "4                    44.104838          1.0                 1   \n",
       "\n",
       "   annual_inc_joint  dti_joint  acc_now_delinq  \n",
       "0     109981.011585  18.310118             0.0  \n",
       "1     109981.011585  18.310118             0.0  \n",
       "2     109981.011585  18.310118             0.0  \n",
       "3     109981.011585  18.310118             0.0  \n",
       "4     109981.011585  18.310118             0.0  \n",
       "\n",
       "[5 rows x 41 columns]"
      ]
     },
     "execution_count": 28,
     "metadata": {},
     "output_type": "execute_result"
    }
   ],
   "source": [
    "dataset.head()"
   ]
  },
  {
   "cell_type": "code",
   "execution_count": 29,
   "metadata": {},
   "outputs": [],
   "source": [
    "#path = \"D:\\Academic\\Data Science\\lc_data\"\n",
    "dataset.to_csv(\"D:\\Academic\\Data Science\\lc_data/cleaned_data.csv\")"
   ]
  },
  {
   "cell_type": "code",
   "execution_count": 31,
   "metadata": {},
   "outputs": [
    {
     "name": "stdout",
     "output_type": "stream",
     "text": [
      "<class 'pandas.core.frame.DataFrame'>\n",
      "RangeIndex: 887379 entries, 0 to 887378\n",
      "Data columns (total 42 columns):\n",
      "Unnamed: 0                     887379 non-null int64\n",
      "loan_amnt                      887379 non-null float64\n",
      "funded_amnt                    887379 non-null float64\n",
      "funded_amnt_inv                887379 non-null float64\n",
      "term                           887379 non-null int64\n",
      "int_rate                       887379 non-null float64\n",
      "installment                    887379 non-null float64\n",
      "grade                          887379 non-null int64\n",
      "sub_grade                      887379 non-null int64\n",
      "home_ownership                 887379 non-null int64\n",
      "annual_inc                     887379 non-null float64\n",
      "verification_status            887379 non-null int64\n",
      "loan_status                    887379 non-null int64\n",
      "pymnt_plan                     887379 non-null int64\n",
      "dti                            887379 non-null float64\n",
      "delinq_2yrs                    887379 non-null float64\n",
      "inq_last_6mths                 887379 non-null float64\n",
      "mths_since_last_delinq         887379 non-null float64\n",
      "mths_since_last_record         887379 non-null float64\n",
      "open_acc                       887379 non-null float64\n",
      "pub_rec                        887379 non-null float64\n",
      "revol_bal                      887379 non-null float64\n",
      "revol_util                     887379 non-null float64\n",
      "total_acc                      887379 non-null float64\n",
      "initial_list_status            887379 non-null int64\n",
      "out_prncp                      887379 non-null float64\n",
      "out_prncp_inv                  887379 non-null float64\n",
      "total_pymnt                    887379 non-null float64\n",
      "total_pymnt_inv                887379 non-null float64\n",
      "total_rec_prncp                887379 non-null float64\n",
      "total_rec_int                  887379 non-null float64\n",
      "total_rec_late_fee             887379 non-null float64\n",
      "recoveries                     887379 non-null float64\n",
      "collection_recovery_fee        887379 non-null float64\n",
      "last_pymnt_amnt                887379 non-null float64\n",
      "collections_12_mths_ex_med     887379 non-null float64\n",
      "mths_since_last_major_derog    887379 non-null float64\n",
      "policy_code                    887379 non-null float64\n",
      "application_type               887379 non-null int64\n",
      "annual_inc_joint               887379 non-null float64\n",
      "dti_joint                      887379 non-null float64\n",
      "acc_now_delinq                 887379 non-null float64\n",
      "dtypes: float64(32), int64(10)\n",
      "memory usage: 284.3 MB\n"
     ]
    },
    {
     "data": {
      "text/plain": [
       "Index(['Unnamed: 0', 'loan_amnt', 'funded_amnt', 'funded_amnt_inv', 'term',\n",
       "       'int_rate', 'installment', 'grade', 'sub_grade', 'home_ownership',\n",
       "       'annual_inc', 'verification_status', 'loan_status', 'pymnt_plan', 'dti',\n",
       "       'delinq_2yrs', 'inq_last_6mths', 'mths_since_last_delinq',\n",
       "       'mths_since_last_record', 'open_acc', 'pub_rec', 'revol_bal',\n",
       "       'revol_util', 'total_acc', 'initial_list_status', 'out_prncp',\n",
       "       'out_prncp_inv', 'total_pymnt', 'total_pymnt_inv', 'total_rec_prncp',\n",
       "       'total_rec_int', 'total_rec_late_fee', 'recoveries',\n",
       "       'collection_recovery_fee', 'last_pymnt_amnt',\n",
       "       'collections_12_mths_ex_med', 'mths_since_last_major_derog',\n",
       "       'policy_code', 'application_type', 'annual_inc_joint', 'dti_joint',\n",
       "       'acc_now_delinq'],\n",
       "      dtype='object')"
      ]
     },
     "execution_count": 31,
     "metadata": {},
     "output_type": "execute_result"
    }
   ],
   "source": [
    "Loan = pd.read_csv('D:\\Academic\\Data Science\\lc_data/cleaned_data.csv')\n",
    "Loan.head(5)\n",
    "Loan.info()\n",
    "Loan.describe()\n",
    "Loan.columns"
   ]
  },
  {
   "cell_type": "code",
   "execution_count": null,
   "metadata": {},
   "outputs": [],
   "source": []
  }
 ],
 "metadata": {
  "kernelspec": {
   "display_name": "Python 3",
   "language": "python",
   "name": "python3"
  },
  "language_info": {
   "codemirror_mode": {
    "name": "ipython",
    "version": 3
   },
   "file_extension": ".py",
   "mimetype": "text/x-python",
   "name": "python",
   "nbconvert_exporter": "python",
   "pygments_lexer": "ipython3",
   "version": "3.7.1"
  }
 },
 "nbformat": 4,
 "nbformat_minor": 2
}
